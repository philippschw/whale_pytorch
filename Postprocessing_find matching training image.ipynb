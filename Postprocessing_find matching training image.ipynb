{
 "cells": [
  {
   "cell_type": "markdown",
   "metadata": {},
   "source": [
    "Other Ideas:\n",
    "- Check whether images that are both in the test dataset are symetrically ranked highly\n",
    "- Remove -1 images\n",
    "- For ties in euclidean distance, select image that has a smaller time difference to reference image\n",
    "- Use all data, also from kaggle\n",
    "- Use ensemble \n",
    "- Use 2. place winner solution\n"
   ]
  },
  {
   "cell_type": "code",
   "execution_count": 1,
   "metadata": {},
   "outputs": [],
   "source": [
    "import pandas as pd"
   ]
  },
  {
   "cell_type": "code",
   "execution_count": 2,
   "metadata": {},
   "outputs": [],
   "source": [
    "df = pd.read_csv('WC_result/se_resnet50_5/out_22000/se_resnet50_sub_fold5_dist_global_org.csv', header=None)\n"
   ]
  },
  {
   "cell_type": "code",
   "execution_count": 3,
   "metadata": {},
   "outputs": [],
   "source": [
    "fp = '/home/pt-support/Humpback-Whale-Identification-1st-/WC_input/'\n",
    "train = pd.read_csv(fp+'train.csv') \n",
    "image_to_id = dict(zip(train.Image, train.Id))\n",
    "\n",
    "train = train.groupby('Id')['Image'].agg({lambda x: set(x)})\n",
    "id_to_images = dict(zip(train.index, train.iloc[:, 0]))"
   ]
  },
  {
   "cell_type": "code",
   "execution_count": 4,
   "metadata": {},
   "outputs": [
    {
     "data": {
      "text/plain": [
       "{'PM-WWA-20090612-092.jpg',\n",
       " 'PM-WWA-20090811-188.jpg',\n",
       " 'PM-WWA-20090813-127.jpg',\n",
       " 'PM-WWA-20100716-156.jpg',\n",
       " 'PM-WWA-20100723-468.jpg',\n",
       " 'PM-WWA-20120617-014.jpg',\n",
       " 'PM-WWA-20140627-075.jpg',\n",
       " 'PM-WWA-20160722-035.jpg',\n",
       " 'PM-WWA-20160726-060.jpg'}"
      ]
     },
     "execution_count": 4,
     "metadata": {},
     "output_type": "execute_result"
    }
   ],
   "source": [
    "id_to_images[image_to_id['PM-WWA-20160722-035.jpg']]"
   ]
  },
  {
   "cell_type": "code",
   "execution_count": 5,
   "metadata": {},
   "outputs": [
    {
     "data": {
      "text/plain": [
       "{'PM-WWA-20090612-092.jpg',\n",
       " 'PM-WWA-20090811-188.jpg',\n",
       " 'PM-WWA-20090813-127.jpg',\n",
       " 'PM-WWA-20100716-156.jpg',\n",
       " 'PM-WWA-20100723-468.jpg',\n",
       " 'PM-WWA-20120617-014.jpg',\n",
       " 'PM-WWA-20140627-075.jpg',\n",
       " 'PM-WWA-20160722-035.jpg'}"
      ]
     },
     "execution_count": 5,
     "metadata": {},
     "output_type": "execute_result"
    }
   ],
   "source": [
    "id_to_images[image_to_id['PM-WWA-20160722-035.jpg']] - set(df.iloc[0])"
   ]
  },
  {
   "cell_type": "code",
   "execution_count": 6,
   "metadata": {},
   "outputs": [
    {
     "data": {
      "text/html": [
       "<div>\n",
       "<style scoped>\n",
       "    .dataframe tbody tr th:only-of-type {\n",
       "        vertical-align: middle;\n",
       "    }\n",
       "\n",
       "    .dataframe tbody tr th {\n",
       "        vertical-align: top;\n",
       "    }\n",
       "\n",
       "    .dataframe thead th {\n",
       "        text-align: right;\n",
       "    }\n",
       "</style>\n",
       "<table border=\"1\" class=\"dataframe\">\n",
       "  <thead>\n",
       "    <tr style=\"text-align: right;\">\n",
       "      <th></th>\n",
       "      <th>0</th>\n",
       "      <th>1</th>\n",
       "      <th>2</th>\n",
       "      <th>3</th>\n",
       "      <th>4</th>\n",
       "      <th>5</th>\n",
       "      <th>6</th>\n",
       "      <th>7</th>\n",
       "      <th>8</th>\n",
       "      <th>9</th>\n",
       "      <th>...</th>\n",
       "      <th>11</th>\n",
       "      <th>12</th>\n",
       "      <th>13</th>\n",
       "      <th>14</th>\n",
       "      <th>15</th>\n",
       "      <th>16</th>\n",
       "      <th>17</th>\n",
       "      <th>18</th>\n",
       "      <th>19</th>\n",
       "      <th>20</th>\n",
       "    </tr>\n",
       "  </thead>\n",
       "  <tbody>\n",
       "  </tbody>\n",
       "</table>\n",
       "<p>0 rows × 21 columns</p>\n",
       "</div>"
      ],
      "text/plain": [
       "Empty DataFrame\n",
       "Columns: [0, 1, 2, 3, 4, 5, 6, 7, 8, 9, 10, 11, 12, 13, 14, 15, 16, 17, 18, 19, 20]\n",
       "Index: []\n",
       "\n",
       "[0 rows x 21 columns]"
      ]
     },
     "execution_count": 6,
     "metadata": {},
     "output_type": "execute_result"
    }
   ],
   "source": [
    "df[df.apply(lambda x: len(set(x)), axis=1) != 21]"
   ]
  },
  {
   "cell_type": "code",
   "execution_count": 7,
   "metadata": {},
   "outputs": [
    {
     "data": {
      "text/plain": [
       "(21,)"
      ]
     },
     "execution_count": 7,
     "metadata": {},
     "output_type": "execute_result"
    }
   ],
   "source": [
    "df.iloc[13].unique().shape"
   ]
  },
  {
   "cell_type": "code",
   "execution_count": 8,
   "metadata": {},
   "outputs": [
    {
     "data": {
      "text/plain": [
       "['PM-WWA-20100723-468.jpg',\n",
       " 'PM-WWA-20100716-156.jpg',\n",
       " 'PM-WWA-20160726-060.jpg',\n",
       " 'PM-WWA-20090612-092.jpg',\n",
       " 'PM-WWA-20120617-014.jpg',\n",
       " 'PM-WWA-20090811-188.jpg',\n",
       " 'PM-WWA-20140627-075.jpg',\n",
       " 'PM-WWA-20090813-127.jpg']"
      ]
     },
     "execution_count": 8,
     "metadata": {},
     "output_type": "execute_result"
    }
   ],
   "source": [
    "list(id_to_images[image_to_id['PM-WWA-20160722-035.jpg']] - {'PM-WWA-20160722-035.jpg'})"
   ]
  },
  {
   "cell_type": "code",
   "execution_count": 9,
   "metadata": {},
   "outputs": [],
   "source": [
    "def get_train_img_class(row):\n",
    "    ref = row[0]\n",
    "    s = row[1:].copy()\n",
    "    start = 0\n",
    "    result = []\n",
    "    for i, img in enumerate(row[1:]):\n",
    "        try:\n",
    "            imgs_same_class = list(id_to_images[image_to_id[img]])\n",
    "            imgs_same_class = [e for e in imgs_same_class if e not in result]\n",
    "            result.extend(imgs_same_class)                \n",
    "        except:\n",
    "            result.extend([img])\n",
    "        \n",
    "    return ([ref] + result)[:21]\n"
   ]
  },
  {
   "cell_type": "code",
   "execution_count": 10,
   "metadata": {},
   "outputs": [],
   "source": [
    "df['new'] = df.apply(lambda x: get_train_img_class(x), axis=1)"
   ]
  },
  {
   "cell_type": "code",
   "execution_count": 11,
   "metadata": {},
   "outputs": [
    {
     "data": {
      "text/plain": [
       "0      21\n",
       "1      21\n",
       "2      21\n",
       "3      21\n",
       "4      21\n",
       "       ..\n",
       "803    21\n",
       "804    21\n",
       "805    21\n",
       "806    21\n",
       "807    21\n",
       "Name: new, Length: 808, dtype: int64"
      ]
     },
     "execution_count": 11,
     "metadata": {},
     "output_type": "execute_result"
    }
   ],
   "source": [
    "df['new'].map(lambda x: len(set(x)))"
   ]
  },
  {
   "cell_type": "code",
   "execution_count": 12,
   "metadata": {},
   "outputs": [
    {
     "data": {
      "text/html": [
       "<div>\n",
       "<style scoped>\n",
       "    .dataframe tbody tr th:only-of-type {\n",
       "        vertical-align: middle;\n",
       "    }\n",
       "\n",
       "    .dataframe tbody tr th {\n",
       "        vertical-align: top;\n",
       "    }\n",
       "\n",
       "    .dataframe thead th {\n",
       "        text-align: right;\n",
       "    }\n",
       "</style>\n",
       "<table border=\"1\" class=\"dataframe\">\n",
       "  <thead>\n",
       "    <tr style=\"text-align: right;\">\n",
       "      <th></th>\n",
       "      <th>0</th>\n",
       "      <th>1</th>\n",
       "      <th>2</th>\n",
       "      <th>3</th>\n",
       "      <th>4</th>\n",
       "      <th>5</th>\n",
       "      <th>6</th>\n",
       "      <th>7</th>\n",
       "      <th>8</th>\n",
       "      <th>9</th>\n",
       "      <th>...</th>\n",
       "      <th>12</th>\n",
       "      <th>13</th>\n",
       "      <th>14</th>\n",
       "      <th>15</th>\n",
       "      <th>16</th>\n",
       "      <th>17</th>\n",
       "      <th>18</th>\n",
       "      <th>19</th>\n",
       "      <th>20</th>\n",
       "      <th>new</th>\n",
       "    </tr>\n",
       "  </thead>\n",
       "  <tbody>\n",
       "    <tr>\n",
       "      <th>805</th>\n",
       "      <td>PM-WWA-20170801-061.jpg</td>\n",
       "      <td>PM-WWA-20180913-272.jpg</td>\n",
       "      <td>PM-WWA-20170714-364.jpg</td>\n",
       "      <td>PM-WWA-20170715-021.jpg</td>\n",
       "      <td>PM-WWA-20170719-203.jpg</td>\n",
       "      <td>PM-WWA-20070619-018.jpg</td>\n",
       "      <td>PM-WWA-20180606-066.jpg</td>\n",
       "      <td>PM-WWA-20060530-A003.jpg</td>\n",
       "      <td>PM-WWA-20130829-161.jpg</td>\n",
       "      <td>PM-WWA-20110829-009.jpg</td>\n",
       "      <td>...</td>\n",
       "      <td>PM-WWA-20140813-020.jpg</td>\n",
       "      <td>PM-WWA-20110825-033.jpg</td>\n",
       "      <td>PM-WWA-20060530-C013.jpg</td>\n",
       "      <td>PM-WWA-20050831-072.jpg</td>\n",
       "      <td>PM-WWA-20070623-160.jpg</td>\n",
       "      <td>PM-WWA-20060914-120.jpg</td>\n",
       "      <td>PM-WWA-20060601-040.jpg</td>\n",
       "      <td>PM-WWA-20120804-082.jpg</td>\n",
       "      <td>PM-WWA-20080520-199.jpg</td>\n",
       "      <td>[PM-WWA-20170801-061.jpg, PM-WWA-20180913-272....</td>\n",
       "    </tr>\n",
       "    <tr>\n",
       "      <th>806</th>\n",
       "      <td>PM-WWA-20180713-173.jpg</td>\n",
       "      <td>PM-WWA-20160705-107.jpg</td>\n",
       "      <td>PM-WWA-20110615-009.jpg</td>\n",
       "      <td>PM-WWA-201006018-016.jpg</td>\n",
       "      <td>PM-WWA-20140608-153.jpg</td>\n",
       "      <td>PM-WWA-20090712-020.jpg</td>\n",
       "      <td>PM-WWA-20140702-021.jpg</td>\n",
       "      <td>PM-WWA-20080520-136.jpg</td>\n",
       "      <td>PM-WWA-20090704-126.jpg</td>\n",
       "      <td>PM-WWA-20080607-012.jpg</td>\n",
       "      <td>...</td>\n",
       "      <td>PM-WWA-20090724-164.jpg</td>\n",
       "      <td>PM-WWA-20150719-034.jpg</td>\n",
       "      <td>PM-WWA-20070721-346.jpg</td>\n",
       "      <td>PM-WWA-20150906-336.jpg</td>\n",
       "      <td>PM-WWA-20180914-075.jpg</td>\n",
       "      <td>PM-WWA-20110522-005.jpg</td>\n",
       "      <td>PM-WWA-20170627-009.jpg</td>\n",
       "      <td>PM-WWA-20090811-043.jpg</td>\n",
       "      <td>PM-WWA-20110410-008.jpg</td>\n",
       "      <td>[PM-WWA-20180713-173.jpg, PM-WWA-201006018-016...</td>\n",
       "    </tr>\n",
       "    <tr>\n",
       "      <th>807</th>\n",
       "      <td>PM-WWA-20170510-814.jpg</td>\n",
       "      <td>PM-WWA-20150526-063.jpg</td>\n",
       "      <td>PM-WWA-20150519-521.jpg</td>\n",
       "      <td>PM-WWA-20050723-176.jpg</td>\n",
       "      <td>PM-WWA-20140627-010.jpg</td>\n",
       "      <td>PM-WWA-20180714-051.jpg</td>\n",
       "      <td>PM-WWA-20140522-256.jpg</td>\n",
       "      <td>PM-WWA-20080728-026.jpg</td>\n",
       "      <td>PM-WWA-20080513-136.jpg</td>\n",
       "      <td>PM-WWA-20170818-052.jpg</td>\n",
       "      <td>...</td>\n",
       "      <td>PM-WWA-20120913-013.jpg</td>\n",
       "      <td>PM-WWA-20060914-137.jpg</td>\n",
       "      <td>PM-WWA-20090830-358.jpg</td>\n",
       "      <td>PM-WWA-20080702-111.jpg</td>\n",
       "      <td>PM-WWA-20160408-564.jpg</td>\n",
       "      <td>PM-WWA-20080819-102.jpg</td>\n",
       "      <td>PM-WWA-20180717-262.jpg</td>\n",
       "      <td>PM-WWA-201006018-028.jpg</td>\n",
       "      <td>PM-WWA-20060914-088.jpg</td>\n",
       "      <td>[PM-WWA-20170510-814.jpg, PM-WWA-20150526-063....</td>\n",
       "    </tr>\n",
       "  </tbody>\n",
       "</table>\n",
       "<p>3 rows × 22 columns</p>\n",
       "</div>"
      ],
      "text/plain": [
       "                           0                        1  \\\n",
       "805  PM-WWA-20170801-061.jpg  PM-WWA-20180913-272.jpg   \n",
       "806  PM-WWA-20180713-173.jpg  PM-WWA-20160705-107.jpg   \n",
       "807  PM-WWA-20170510-814.jpg  PM-WWA-20150526-063.jpg   \n",
       "\n",
       "                           2                         3  \\\n",
       "805  PM-WWA-20170714-364.jpg   PM-WWA-20170715-021.jpg   \n",
       "806  PM-WWA-20110615-009.jpg  PM-WWA-201006018-016.jpg   \n",
       "807  PM-WWA-20150519-521.jpg   PM-WWA-20050723-176.jpg   \n",
       "\n",
       "                           4                        5  \\\n",
       "805  PM-WWA-20170719-203.jpg  PM-WWA-20070619-018.jpg   \n",
       "806  PM-WWA-20140608-153.jpg  PM-WWA-20090712-020.jpg   \n",
       "807  PM-WWA-20140627-010.jpg  PM-WWA-20180714-051.jpg   \n",
       "\n",
       "                           6                         7  \\\n",
       "805  PM-WWA-20180606-066.jpg  PM-WWA-20060530-A003.jpg   \n",
       "806  PM-WWA-20140702-021.jpg   PM-WWA-20080520-136.jpg   \n",
       "807  PM-WWA-20140522-256.jpg   PM-WWA-20080728-026.jpg   \n",
       "\n",
       "                           8                        9  ...  \\\n",
       "805  PM-WWA-20130829-161.jpg  PM-WWA-20110829-009.jpg  ...   \n",
       "806  PM-WWA-20090704-126.jpg  PM-WWA-20080607-012.jpg  ...   \n",
       "807  PM-WWA-20080513-136.jpg  PM-WWA-20170818-052.jpg  ...   \n",
       "\n",
       "                          12                       13  \\\n",
       "805  PM-WWA-20140813-020.jpg  PM-WWA-20110825-033.jpg   \n",
       "806  PM-WWA-20090724-164.jpg  PM-WWA-20150719-034.jpg   \n",
       "807  PM-WWA-20120913-013.jpg  PM-WWA-20060914-137.jpg   \n",
       "\n",
       "                           14                       15  \\\n",
       "805  PM-WWA-20060530-C013.jpg  PM-WWA-20050831-072.jpg   \n",
       "806   PM-WWA-20070721-346.jpg  PM-WWA-20150906-336.jpg   \n",
       "807   PM-WWA-20090830-358.jpg  PM-WWA-20080702-111.jpg   \n",
       "\n",
       "                          16                       17  \\\n",
       "805  PM-WWA-20070623-160.jpg  PM-WWA-20060914-120.jpg   \n",
       "806  PM-WWA-20180914-075.jpg  PM-WWA-20110522-005.jpg   \n",
       "807  PM-WWA-20160408-564.jpg  PM-WWA-20080819-102.jpg   \n",
       "\n",
       "                          18                        19  \\\n",
       "805  PM-WWA-20060601-040.jpg   PM-WWA-20120804-082.jpg   \n",
       "806  PM-WWA-20170627-009.jpg   PM-WWA-20090811-043.jpg   \n",
       "807  PM-WWA-20180717-262.jpg  PM-WWA-201006018-028.jpg   \n",
       "\n",
       "                          20  \\\n",
       "805  PM-WWA-20080520-199.jpg   \n",
       "806  PM-WWA-20110410-008.jpg   \n",
       "807  PM-WWA-20060914-088.jpg   \n",
       "\n",
       "                                                   new  \n",
       "805  [PM-WWA-20170801-061.jpg, PM-WWA-20180913-272....  \n",
       "806  [PM-WWA-20180713-173.jpg, PM-WWA-201006018-016...  \n",
       "807  [PM-WWA-20170510-814.jpg, PM-WWA-20150526-063....  \n",
       "\n",
       "[3 rows x 22 columns]"
      ]
     },
     "execution_count": 12,
     "metadata": {},
     "output_type": "execute_result"
    }
   ],
   "source": [
    "df.tail(3)"
   ]
  },
  {
   "cell_type": "code",
   "execution_count": 14,
   "metadata": {},
   "outputs": [],
   "source": [
    "df['new'].apply(pd.Series).to_csv('WC_result/se_resnet50_5/out_22000/postprocessing_se_resnet50_sub_fold5_dist_global_org.csv',\n",
    "                                  header=None, index=False)"
   ]
  },
  {
   "cell_type": "code",
   "execution_count": null,
   "metadata": {},
   "outputs": [],
   "source": []
  }
 ],
 "metadata": {
  "kernelspec": {
   "display_name": "Python [conda env:fastai]",
   "language": "python",
   "name": "conda-env-fastai-py"
  },
  "language_info": {
   "codemirror_mode": {
    "name": "ipython",
    "version": 3
   },
   "file_extension": ".py",
   "mimetype": "text/x-python",
   "name": "python",
   "nbconvert_exporter": "python",
   "pygments_lexer": "ipython3",
   "version": "3.6.10"
  }
 },
 "nbformat": 4,
 "nbformat_minor": 4
}
