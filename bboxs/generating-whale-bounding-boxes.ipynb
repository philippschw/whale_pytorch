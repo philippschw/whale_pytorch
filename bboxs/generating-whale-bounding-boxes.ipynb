{
 "cells": [
  {
   "cell_type": "code",
   "execution_count": 1,
   "metadata": {
    "_uuid": "53e265d56719498b6c971b5cf8ac4c5b727bbd19"
   },
   "outputs": [],
   "source": [
    "import os\n",
    "\n",
    "import PIL\n",
    "from PIL import Image\n",
    "from PIL.ImageDraw import Draw\n",
    "\n",
    "import numpy as np\n",
    "import matplotlib.pyplot as plt\n",
    "%matplotlib inline\n",
    "from tensorflow.keras.models import load_model\n",
    "from tensorflow.keras.preprocessing import image\n",
    "from tensorflow.keras.preprocessing.image import img_to_array\n",
    "from scipy.ndimage import affine_transform\n",
    "from tensorflow.keras import backend as K\n",
    "\n",
    "import pandas as pd\n",
    "from tqdm import tqdm"
   ]
  },
  {
   "cell_type": "code",
   "execution_count": 2,
   "metadata": {},
   "outputs": [],
   "source": [
    "# !wget https://www.kaggleusercontent.com/kf/4346884/eyJhbGciOiJkaXIiLCJlbmMiOiJBMTI4Q0JDLUhTMjU2In0..DyxYyheDh_RA5kd4_MHPwQ.875NZZPJbHPYKhkWxQjO1tIJ01qGMAJ694LuYv3CyQNrCrpFKPRXXjhvOt7-Aa6SxPWVNeo5F1_8K25uGevhDpq4xSvoeoqwNt1t0iMTglPBXCZh5cua_j4eZ2ezs9MnAKzQBeyxDxj8Z6cYpxnat56CkDUIIbjnJZL0o47Afgdk9nmIMZtlgfDJ-OH4XZ1Pv-Eg6wyw9ngGBjIVCjnxCxSHS2lYalz-IsIP5wRIjOxVMrUMDgR_AGgkCIvOgkHpMDXTpoPHJ53czO3zkMQ86GBIQAQcoZcHQzpkdE-gEaeDycqK5B_gH865TtbLK64tw0Rr2_F7u8uikrKgqVHMU8tflZbyzUbWconcEZ24dQ7ojWkuCs2mvdiIyoWLzaPCsE_pMoLAo1i0ytrEWyGHemb9kTnaVDRIIlktevTAefNf0uPzwfQE-U9MwzBcpJtKQ0magKgLg8Xu6mV_YmcU0zFx4Wl51cU9doB-9kh1L9ot6y9sIKAD733cqmiCvhblmK_cwU5hAt7cW28BiaVrtoIkJuAkvrkhvmDIYhHFX4klj9Yv4TAKq0BZ8rmmXuc403MRPLNGqSLYz5Rv-jltXxnQMYIt2kCZmHGklbJU6OUyY2WXhCzZ1yZB1F-mtvd2vwwb_P6HOk8zLCOx5ODy5DMcFA5s5-eb2Qpo9ADpUq8.fJT6QVF86y6-GG6dz0fkzA/cropping.model"
   ]
  },
  {
   "cell_type": "code",
   "execution_count": 3,
   "metadata": {
    "_uuid": "4a432aea33948e321cf25617d67928097df0c317"
   },
   "outputs": [],
   "source": [
    "MODEL_BASE = '../input/bounding-box-model'\n",
    "DATA = '../WC_input/data'"
   ]
  },
  {
   "cell_type": "code",
   "execution_count": 4,
   "metadata": {
    "_uuid": "6a7af444edd754740b2beb1fe32116a3aae6035c"
   },
   "outputs": [],
   "source": [
    "model = load_model('cropping.model')"
   ]
  },
  {
   "cell_type": "code",
   "execution_count": 5,
   "metadata": {},
   "outputs": [
    {
     "name": "stdout",
     "output_type": "stream",
     "text": [
      "Model: \"model_2\"\n",
      "__________________________________________________________________________________________________\n",
      "Layer (type)                    Output Shape         Param #     Connected to                     \n",
      "==================================================================================================\n",
      "input_2 (InputLayer)            [(None, 128, 128, 1) 0                                            \n",
      "__________________________________________________________________________________________________\n",
      "conv2d_18 (Conv2D)              (None, 128, 128, 64) 5248        input_2[0][0]                    \n",
      "__________________________________________________________________________________________________\n",
      "conv2d_19 (Conv2D)              (None, 128, 128, 64) 36928       conv2d_18[0][0]                  \n",
      "__________________________________________________________________________________________________\n",
      "batch_normalization_7 (BatchNor (None, 128, 128, 64) 256         conv2d_19[0][0]                  \n",
      "__________________________________________________________________________________________________\n",
      "conv2d_20 (Conv2D)              (None, 64, 64, 64)   16448       batch_normalization_7[0][0]      \n",
      "__________________________________________________________________________________________________\n",
      "conv2d_21 (Conv2D)              (None, 64, 64, 64)   36928       conv2d_20[0][0]                  \n",
      "__________________________________________________________________________________________________\n",
      "conv2d_22 (Conv2D)              (None, 64, 64, 64)   36928       conv2d_21[0][0]                  \n",
      "__________________________________________________________________________________________________\n",
      "batch_normalization_8 (BatchNor (None, 64, 64, 64)   256         conv2d_22[0][0]                  \n",
      "__________________________________________________________________________________________________\n",
      "conv2d_23 (Conv2D)              (None, 32, 32, 64)   16448       batch_normalization_8[0][0]      \n",
      "__________________________________________________________________________________________________\n",
      "conv2d_24 (Conv2D)              (None, 32, 32, 64)   36928       conv2d_23[0][0]                  \n",
      "__________________________________________________________________________________________________\n",
      "conv2d_25 (Conv2D)              (None, 32, 32, 64)   36928       conv2d_24[0][0]                  \n",
      "__________________________________________________________________________________________________\n",
      "batch_normalization_9 (BatchNor (None, 32, 32, 64)   256         conv2d_25[0][0]                  \n",
      "__________________________________________________________________________________________________\n",
      "conv2d_26 (Conv2D)              (None, 16, 16, 64)   16448       batch_normalization_9[0][0]      \n",
      "__________________________________________________________________________________________________\n",
      "conv2d_27 (Conv2D)              (None, 16, 16, 64)   36928       conv2d_26[0][0]                  \n",
      "__________________________________________________________________________________________________\n",
      "conv2d_28 (Conv2D)              (None, 16, 16, 64)   36928       conv2d_27[0][0]                  \n",
      "__________________________________________________________________________________________________\n",
      "batch_normalization_10 (BatchNo (None, 16, 16, 64)   256         conv2d_28[0][0]                  \n",
      "__________________________________________________________________________________________________\n",
      "conv2d_29 (Conv2D)              (None, 8, 8, 64)     16448       batch_normalization_10[0][0]     \n",
      "__________________________________________________________________________________________________\n",
      "conv2d_30 (Conv2D)              (None, 8, 8, 64)     36928       conv2d_29[0][0]                  \n",
      "__________________________________________________________________________________________________\n",
      "conv2d_31 (Conv2D)              (None, 8, 8, 64)     36928       conv2d_30[0][0]                  \n",
      "__________________________________________________________________________________________________\n",
      "batch_normalization_11 (BatchNo (None, 8, 8, 64)     256         conv2d_31[0][0]                  \n",
      "__________________________________________________________________________________________________\n",
      "conv2d_32 (Conv2D)              (None, 4, 4, 64)     16448       batch_normalization_11[0][0]     \n",
      "__________________________________________________________________________________________________\n",
      "conv2d_33 (Conv2D)              (None, 4, 4, 64)     36928       conv2d_32[0][0]                  \n",
      "__________________________________________________________________________________________________\n",
      "conv2d_34 (Conv2D)              (None, 4, 4, 64)     36928       conv2d_33[0][0]                  \n",
      "__________________________________________________________________________________________________\n",
      "batch_normalization_12 (BatchNo (None, 4, 4, 64)     256         conv2d_34[0][0]                  \n",
      "__________________________________________________________________________________________________\n",
      "max_pooling2d_3 (MaxPooling2D)  (None, 4, 1, 64)     0           batch_normalization_12[0][0]     \n",
      "__________________________________________________________________________________________________\n",
      "max_pooling2d_4 (MaxPooling2D)  (None, 1, 4, 64)     0           batch_normalization_12[0][0]     \n",
      "__________________________________________________________________________________________________\n",
      "flatten_3 (Flatten)             (None, 256)          0           max_pooling2d_3[0][0]            \n",
      "__________________________________________________________________________________________________\n",
      "flatten_4 (Flatten)             (None, 256)          0           max_pooling2d_4[0][0]            \n",
      "__________________________________________________________________________________________________\n",
      "dense_4 (Dense)                 (None, 16)           4112        flatten_3[0][0]                  \n",
      "__________________________________________________________________________________________________\n",
      "dense_5 (Dense)                 (None, 16)           4112        flatten_4[0][0]                  \n",
      "__________________________________________________________________________________________________\n",
      "concatenate_2 (Concatenate)     (None, 32)           0           dense_4[0][0]                    \n",
      "                                                                 dense_5[0][0]                    \n",
      "__________________________________________________________________________________________________\n",
      "dense_6 (Dense)                 (None, 4)            132         concatenate_2[0][0]              \n",
      "==================================================================================================\n",
      "Total params: 503,588\n",
      "Trainable params: 502,820\n",
      "Non-trainable params: 768\n",
      "__________________________________________________________________________________________________\n"
     ]
    }
   ],
   "source": [
    "model.summary()"
   ]
  },
  {
   "cell_type": "code",
   "execution_count": 6,
   "metadata": {
    "_uuid": "3b03b5b50d2c4787d9d6c065a160316ddecd45fc"
   },
   "outputs": [],
   "source": [
    "data_paths = [img for img in os.listdir(DATA)]"
   ]
  },
  {
   "cell_type": "code",
   "execution_count": 7,
   "metadata": {
    "_uuid": "0b45eea2cd93933ea852d08a30c846440eeb6376"
   },
   "outputs": [],
   "source": [
    "\n",
    "# Define useful constants\n",
    "img_shape  = (128, 128, 1)\n",
    "anisotropy = 2.15\n",
    "\n",
    "def center_transform(affine, input_shape):\n",
    "    hi, wi = float(input_shape[0]), float(input_shape[1])\n",
    "    ho, wo = float(img_shape[0]), float(img_shape[1])\n",
    "    top, left, bottom, right = 0, 0, hi, wi\n",
    "    if wi/hi/anisotropy < wo/ho: # input image too narrow, extend width\n",
    "        w     = hi*wo/ho*anisotropy\n",
    "        left  = (wi-w)/2\n",
    "        right = left + w\n",
    "    else: # input image too wide, extend height\n",
    "        h      = wi*ho/wo/anisotropy\n",
    "        top    = (hi-h)/2\n",
    "        bottom = top + h\n",
    "    center_matrix   = np.array([[1, 0, -ho/2], [0, 1, -wo/2], [0, 0, 1]])\n",
    "    scale_matrix    = np.array([[(bottom - top)/ho, 0, 0], [0, (right - left)/wo, 0], [0, 0, 1]])\n",
    "    decenter_matrix = np.array([[1, 0, hi/2], [0, 1, wi/2], [0, 0, 1]])\n",
    "    return np.dot(np.dot(decenter_matrix, scale_matrix), np.dot(affine, center_matrix))\n",
    "\n",
    "# Apply an affine transformation to an image represented as a numpy array.\n",
    "def transform_img(x, affine):\n",
    "    matrix   = affine[:2,:2]\n",
    "    offset   = affine[:2,2]\n",
    "    x        = np.moveaxis(x, -1, 0)\n",
    "    channels = [affine_transform(channel, matrix, offset, output_shape=img_shape[:-1], order=1,\n",
    "                                 mode='constant', cval=np.average(channel)) for channel in x]\n",
    "    return np.moveaxis(np.stack(channels, axis=0), 0, -1)\n",
    "\n",
    "def read_raw_image(p):\n",
    "    return Image.open(p)\n",
    "\n",
    "def read_for_validation(x):\n",
    "    t  = np.array([[1, 0, 0], [0, 1, 0], [0, 0, 1]])\n",
    "    t  = center_transform(t, x.shape)\n",
    "    x  = transform_img(x, t)\n",
    "    x -= np.mean(x, keepdims=True)\n",
    "    x /= np.std(x, keepdims=True) + K.epsilon()\n",
    "    return x, t\n",
    "\n",
    "def coord_transform(list, trans):\n",
    "    result = []\n",
    "    for x,y in list:\n",
    "        y,x,_ = trans.dot([y,x,1]).astype(np.int)\n",
    "        result.append((x,y))\n",
    "    return result\n",
    "\n",
    "def read_array(p):\n",
    "    img = read_raw_image(p).convert('L')\n",
    "    return img_to_array(img)\n",
    "\n",
    "def make_bbox(p):\n",
    "    raw = read_array(p)\n",
    "    width, height = raw.shape[1], raw.shape[0]\n",
    "    img,trans         = read_for_validation(raw)\n",
    "    a                 = np.expand_dims(img, axis=0)\n",
    "    x0, y0, x1, y1    = model.predict(a).squeeze()\n",
    "    (u0, v0),(u1, v1) = coord_transform([(x0,y0),(x1,y1)], trans)\n",
    "    bbox = [max(u0,0), max(v0,0), min(u1,width), min(v1,height)]\n",
    "    if bbox[0] >= bbox[2] or bbox[1] >= bbox[3]:\n",
    "        bbox = [0,0,width,height]\n",
    "    return bbox"
   ]
  },
  {
   "cell_type": "code",
   "execution_count": 8,
   "metadata": {
    "_uuid": "6bbddf36e5cbc397e7baa1b87635063f6da8cbef"
   },
   "outputs": [],
   "source": [
    "bbox_df = pd.DataFrame(columns=['Image','x0','y0','x1','y1']).set_index('Image')"
   ]
  },
  {
   "cell_type": "code",
   "execution_count": 9,
   "metadata": {
    "_uuid": "36085d38dc2767f034317bfb05e587d386e137dd"
   },
   "outputs": [
    {
     "name": "stderr",
     "output_type": "stream",
     "text": [
      "100%|██████████| 5347/5347 [06:34<00:00, 13.54it/s]\n"
     ]
    }
   ],
   "source": [
    "for img in tqdm(data_paths):\n",
    "    bbox_df.loc[img] = make_bbox(os.path.join(DATA,img))"
   ]
  },
  {
   "cell_type": "code",
   "execution_count": 10,
   "metadata": {
    "_uuid": "d9b9cfb37ddb3f0699a1fb37862b988bead01a1a"
   },
   "outputs": [],
   "source": [
    "bbox_df.to_csv(\"bboxs.csv\")"
   ]
  },
  {
   "cell_type": "code",
   "execution_count": 11,
   "metadata": {},
   "outputs": [
    {
     "data": {
      "text/plain": [
       "2607708"
      ]
     },
     "execution_count": 11,
     "metadata": {},
     "output_type": "execute_result"
    }
   ],
   "source": [
    "(bbox_df.y1).sum()"
   ]
  },
  {
   "cell_type": "code",
   "execution_count": 12,
   "metadata": {},
   "outputs": [
    {
     "data": {
      "text/html": [
       "<div>\n",
       "<style scoped>\n",
       "    .dataframe tbody tr th:only-of-type {\n",
       "        vertical-align: middle;\n",
       "    }\n",
       "\n",
       "    .dataframe tbody tr th {\n",
       "        vertical-align: top;\n",
       "    }\n",
       "\n",
       "    .dataframe thead th {\n",
       "        text-align: right;\n",
       "    }\n",
       "</style>\n",
       "<table border=\"1\" class=\"dataframe\">\n",
       "  <thead>\n",
       "    <tr style=\"text-align: right;\">\n",
       "      <th></th>\n",
       "      <th>x0</th>\n",
       "      <th>y0</th>\n",
       "      <th>x1</th>\n",
       "      <th>y1</th>\n",
       "    </tr>\n",
       "    <tr>\n",
       "      <th>Image</th>\n",
       "      <th></th>\n",
       "      <th></th>\n",
       "      <th></th>\n",
       "      <th></th>\n",
       "    </tr>\n",
       "  </thead>\n",
       "  <tbody>\n",
       "    <tr>\n",
       "      <th>PM-WWA-20180811-093.jpg</th>\n",
       "      <td>31</td>\n",
       "      <td>109</td>\n",
       "      <td>956</td>\n",
       "      <td>377</td>\n",
       "    </tr>\n",
       "    <tr>\n",
       "      <th>PM-WWA-20120430-011.jpg</th>\n",
       "      <td>242</td>\n",
       "      <td>152</td>\n",
       "      <td>1523</td>\n",
       "      <td>609</td>\n",
       "    </tr>\n",
       "    <tr>\n",
       "      <th>PM-WWA-20110724-023.jpg</th>\n",
       "      <td>108</td>\n",
       "      <td>172</td>\n",
       "      <td>1198</td>\n",
       "      <td>352</td>\n",
       "    </tr>\n",
       "    <tr>\n",
       "      <th>PM-WWA-20160924-452.jpg</th>\n",
       "      <td>67</td>\n",
       "      <td>176</td>\n",
       "      <td>1629</td>\n",
       "      <td>546</td>\n",
       "    </tr>\n",
       "    <tr>\n",
       "      <th>PM-WWA-20140703-551.jpg</th>\n",
       "      <td>95</td>\n",
       "      <td>259</td>\n",
       "      <td>2914</td>\n",
       "      <td>880</td>\n",
       "    </tr>\n",
       "    <tr>\n",
       "      <th>...</th>\n",
       "      <td>...</td>\n",
       "      <td>...</td>\n",
       "      <td>...</td>\n",
       "      <td>...</td>\n",
       "    </tr>\n",
       "    <tr>\n",
       "      <th>PM-WWA-20130423-190.jpg</th>\n",
       "      <td>79</td>\n",
       "      <td>161</td>\n",
       "      <td>943</td>\n",
       "      <td>287</td>\n",
       "    </tr>\n",
       "    <tr>\n",
       "      <th>PM-WWA-20070626-014.jpg</th>\n",
       "      <td>80</td>\n",
       "      <td>106</td>\n",
       "      <td>785</td>\n",
       "      <td>206</td>\n",
       "    </tr>\n",
       "    <tr>\n",
       "      <th>PM-WWA-20090811-050.jpg</th>\n",
       "      <td>65</td>\n",
       "      <td>58</td>\n",
       "      <td>246</td>\n",
       "      <td>93</td>\n",
       "    </tr>\n",
       "    <tr>\n",
       "      <th>PM-WWA-20060627-020.jpg</th>\n",
       "      <td>111</td>\n",
       "      <td>290</td>\n",
       "      <td>1765</td>\n",
       "      <td>714</td>\n",
       "    </tr>\n",
       "    <tr>\n",
       "      <th>PM-WWA-20060715-071.jpg</th>\n",
       "      <td>101</td>\n",
       "      <td>123</td>\n",
       "      <td>490</td>\n",
       "      <td>239</td>\n",
       "    </tr>\n",
       "  </tbody>\n",
       "</table>\n",
       "<p>5347 rows × 4 columns</p>\n",
       "</div>"
      ],
      "text/plain": [
       "                          x0   y0    x1   y1\n",
       "Image                                       \n",
       "PM-WWA-20180811-093.jpg   31  109   956  377\n",
       "PM-WWA-20120430-011.jpg  242  152  1523  609\n",
       "PM-WWA-20110724-023.jpg  108  172  1198  352\n",
       "PM-WWA-20160924-452.jpg   67  176  1629  546\n",
       "PM-WWA-20140703-551.jpg   95  259  2914  880\n",
       "...                      ...  ...   ...  ...\n",
       "PM-WWA-20130423-190.jpg   79  161   943  287\n",
       "PM-WWA-20070626-014.jpg   80  106   785  206\n",
       "PM-WWA-20090811-050.jpg   65   58   246   93\n",
       "PM-WWA-20060627-020.jpg  111  290  1765  714\n",
       "PM-WWA-20060715-071.jpg  101  123   490  239\n",
       "\n",
       "[5347 rows x 4 columns]"
      ]
     },
     "execution_count": 12,
     "metadata": {},
     "output_type": "execute_result"
    }
   ],
   "source": [
    "bbox_df"
   ]
  },
  {
   "cell_type": "code",
   "execution_count": null,
   "metadata": {},
   "outputs": [],
   "source": []
  }
 ],
 "metadata": {
  "kernelspec": {
   "display_name": "Python [conda env:kerasgpu]",
   "language": "python",
   "name": "conda-env-kerasgpu-py"
  },
  "language_info": {
   "codemirror_mode": {
    "name": "ipython",
    "version": 3
   },
   "file_extension": ".py",
   "mimetype": "text/x-python",
   "name": "python",
   "nbconvert_exporter": "python",
   "pygments_lexer": "ipython3",
   "version": "3.6.8"
  }
 },
 "nbformat": 4,
 "nbformat_minor": 1
}
