{
 "cells": [
  {
   "cell_type": "code",
   "execution_count": 1,
   "metadata": {},
   "outputs": [
    {
     "name": "stdout",
     "output_type": "stream",
     "text": [
      "Requirement already satisfied: ipdb in /anaconda/envs/py37_pytorch/lib/python3.7/site-packages (0.13.2)\n",
      "Requirement already satisfied: setuptools in /anaconda/envs/py37_pytorch/lib/python3.7/site-packages (from ipdb) (45.1.0.post20200127)\n",
      "Requirement already satisfied: ipython>=5.1.0; python_version >= \"3.4\" in /anaconda/envs/py37_pytorch/lib/python3.7/site-packages (from ipdb) (7.11.1)\n",
      "Requirement already satisfied: traitlets>=4.2 in /anaconda/envs/py37_pytorch/lib/python3.7/site-packages (from ipython>=5.1.0; python_version >= \"3.4\"->ipdb) (4.3.3)\n",
      "Requirement already satisfied: prompt-toolkit!=3.0.0,!=3.0.1,<3.1.0,>=2.0.0 in /anaconda/envs/py37_pytorch/lib/python3.7/site-packages (from ipython>=5.1.0; python_version >= \"3.4\"->ipdb) (3.0.3)\n",
      "Requirement already satisfied: backcall in /anaconda/envs/py37_pytorch/lib/python3.7/site-packages (from ipython>=5.1.0; python_version >= \"3.4\"->ipdb) (0.1.0)\n",
      "Requirement already satisfied: pexpect; sys_platform != \"win32\" in /anaconda/envs/py37_pytorch/lib/python3.7/site-packages (from ipython>=5.1.0; python_version >= \"3.4\"->ipdb) (4.8.0)\n",
      "Requirement already satisfied: jedi>=0.10 in /anaconda/envs/py37_pytorch/lib/python3.7/site-packages (from ipython>=5.1.0; python_version >= \"3.4\"->ipdb) (0.16.0)\n",
      "Requirement already satisfied: pygments in /anaconda/envs/py37_pytorch/lib/python3.7/site-packages (from ipython>=5.1.0; python_version >= \"3.4\"->ipdb) (2.5.2)\n",
      "Requirement already satisfied: pickleshare in /anaconda/envs/py37_pytorch/lib/python3.7/site-packages (from ipython>=5.1.0; python_version >= \"3.4\"->ipdb) (0.7.5)\n",
      "Requirement already satisfied: decorator in /anaconda/envs/py37_pytorch/lib/python3.7/site-packages (from ipython>=5.1.0; python_version >= \"3.4\"->ipdb) (4.4.1)\n",
      "Requirement already satisfied: six in /anaconda/envs/py37_pytorch/lib/python3.7/site-packages (from traitlets>=4.2->ipython>=5.1.0; python_version >= \"3.4\"->ipdb) (1.14.0)\n",
      "Requirement already satisfied: ipython-genutils in /anaconda/envs/py37_pytorch/lib/python3.7/site-packages (from traitlets>=4.2->ipython>=5.1.0; python_version >= \"3.4\"->ipdb) (0.2.0)\n",
      "Requirement already satisfied: wcwidth in /anaconda/envs/py37_pytorch/lib/python3.7/site-packages (from prompt-toolkit!=3.0.0,!=3.0.1,<3.1.0,>=2.0.0->ipython>=5.1.0; python_version >= \"3.4\"->ipdb) (0.1.7)\n",
      "Requirement already satisfied: ptyprocess>=0.5 in /anaconda/envs/py37_pytorch/lib/python3.7/site-packages (from pexpect; sys_platform != \"win32\"->ipython>=5.1.0; python_version >= \"3.4\"->ipdb) (0.6.0)\n",
      "Requirement already satisfied: parso>=0.5.2 in /anaconda/envs/py37_pytorch/lib/python3.7/site-packages (from jedi>=0.10->ipython>=5.1.0; python_version >= \"3.4\"->ipdb) (0.6.0)\n"
     ]
    }
   ],
   "source": [
    "!pip install ipdb"
   ]
  },
  {
   "cell_type": "code",
   "execution_count": 2,
   "metadata": {},
   "outputs": [],
   "source": [
    "import pandas as pd\n",
    "import numpy as np\n",
    "import os\n",
    "import torch\n",
    "from tqdm import tqdm\n",
    "from models import *\n",
    "from dataSet.reader import *\n",
    "from dataSet.transform import *\n",
    "import os\n",
    "import shutil\n",
    "import ipdb\n",
    "os.environ['CUDA_VISIBLE_DEVICES'] = '0'\n",
    "num_TTA = 2\n",
    "\n",
    "import ipdb\n",
    "\n",
    "def train_collate(batch):\n",
    "#     ipdb.set_trace()\n",
    "    batch_size = len(batch)\n",
    "    images = []\n",
    "    labels = []\n",
    "    names = []\n",
    "    for b in range(batch_size):\n",
    "        if batch[b][0] is None:\n",
    "            continue\n",
    "        else:\n",
    "            images.extend(batch[b][0])\n",
    "            labels.append(batch[b][1])\n",
    "            names.append(batch[b][2])\n",
    "    images = torch.stack(images, 0)\n",
    "    labels = torch.from_numpy(np.array(labels))\n",
    "    return images, labels, names\n",
    "\n",
    "def transform(image, mask):\n",
    "    raw_iamge = cv2.resize(image, (512, 256))\n",
    "    raw_mask = cv2.resize(mask, (512, 256))\n",
    "    raw_mask = raw_mask[:, :, None]\n",
    "    raw_iamge = np.concatenate([raw_iamge, raw_mask], 2)\n",
    "    images = []\n",
    "\n",
    "    image = raw_iamge.copy()\n",
    "    image = np.transpose(image, (2, 0, 1))\n",
    "    image = image.copy().astype(np.float)\n",
    "    image = torch.from_numpy(image).div(255).float()\n",
    "    images.append(image)\n",
    "\n",
    "    image = raw_iamge.copy()\n",
    "    image = np.fliplr(image)\n",
    "    image = np.transpose(image, (2, 0, 1))\n",
    "    image = image.copy().astype(np.float)\n",
    "    image = torch.from_numpy(image).div(255).float()\n",
    "    images.append(image)\n",
    "\n",
    "    return images"
   ]
  },
  {
   "cell_type": "code",
   "execution_count": 3,
   "metadata": {},
   "outputs": [
    {
     "name": "stdout",
     "output_type": "stream",
     "text": [
      "loading bbox...\n"
     ]
    }
   ],
   "source": [
    "mode = 'data'\n",
    "names_test = os.listdir(f'./WC_input/{mode}')\n",
    "sample_submission = pd.read_csv('./WC_input/sample_submission.csv', header=None)\n",
    "test_imgs = sample_submission.iloc[:, 0].tolist()\n",
    "batch_size = 80\n",
    "dst_test = WhaleTestDataset(names_test, mode=mode, transform=transform)\n",
    "dataloader_test = DataLoader(dst_test, batch_size=batch_size, num_workers=0, collate_fn=train_collate)"
   ]
  },
  {
   "cell_type": "code",
   "execution_count": 4,
   "metadata": {},
   "outputs": [
    {
     "name": "stderr",
     "output_type": "stream",
     "text": [
      "  0%|          | 0/67 [00:03<?, ?it/s]\n"
     ]
    }
   ],
   "source": [
    "for data in tqdm(dataloader_test):\n",
    "    images, labels, names = data\n",
    "    break"
   ]
  },
  {
   "cell_type": "code",
   "execution_count": 5,
   "metadata": {},
   "outputs": [
    {
     "data": {
      "text/plain": [
       "torch.Size([80, 18])"
      ]
     },
     "execution_count": 5,
     "metadata": {},
     "output_type": "execute_result"
    }
   ],
   "source": [
    "labels.shape"
   ]
  },
  {
   "cell_type": "code",
   "execution_count": 6,
   "metadata": {},
   "outputs": [
    {
     "data": {
      "text/plain": [
       "80"
      ]
     },
     "execution_count": 6,
     "metadata": {},
     "output_type": "execute_result"
    }
   ],
   "source": [
    "len(names)"
   ]
  },
  {
   "cell_type": "code",
   "execution_count": 7,
   "metadata": {},
   "outputs": [
    {
     "data": {
      "text/plain": [
       "torch.Size([160, 4, 256, 512])"
      ]
     },
     "execution_count": 7,
     "metadata": {},
     "output_type": "execute_result"
    }
   ],
   "source": [
    "images.shape"
   ]
  },
  {
   "cell_type": "code",
   "execution_count": 8,
   "metadata": {},
   "outputs": [
    {
     "data": {
      "text/plain": [
       "80"
      ]
     },
     "execution_count": 8,
     "metadata": {},
     "output_type": "execute_result"
    }
   ],
   "source": [
    "len(names)"
   ]
  },
  {
   "cell_type": "code",
   "execution_count": null,
   "metadata": {},
   "outputs": [],
   "source": []
  }
 ],
 "metadata": {
  "hide_input": false,
  "kernelspec": {
   "display_name": "Python [conda env:py37_pytorch]",
   "language": "python",
   "name": "conda-env-py37_pytorch-py"
  },
  "language_info": {
   "codemirror_mode": {
    "name": "ipython",
    "version": 3
   },
   "file_extension": ".py",
   "mimetype": "text/x-python",
   "name": "python",
   "nbconvert_exporter": "python",
   "pygments_lexer": "ipython3",
   "version": "3.7.6"
  }
 },
 "nbformat": 4,
 "nbformat_minor": 4
}
