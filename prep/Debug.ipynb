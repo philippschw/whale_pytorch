{
 "cells": [
  {
   "cell_type": "code",
   "execution_count": 30,
   "metadata": {},
   "outputs": [],
   "source": [
    "import pandas as pd"
   ]
  },
  {
   "cell_type": "code",
   "execution_count": 60,
   "metadata": {},
   "outputs": [],
   "source": [
    "df = pd.read_csv('../dist_global_avg.csv')"
   ]
  },
  {
   "cell_type": "code",
   "execution_count": 62,
   "metadata": {},
   "outputs": [],
   "source": [
    "sample_submission  = pd.read_csv('../WC_input/sample_submission.csv')"
   ]
  },
  {
   "cell_type": "code",
   "execution_count": 63,
   "metadata": {},
   "outputs": [
    {
     "data": {
      "text/html": [
       "<div>\n",
       "<style scoped>\n",
       "    .dataframe tbody tr th:only-of-type {\n",
       "        vertical-align: middle;\n",
       "    }\n",
       "\n",
       "    .dataframe tbody tr th {\n",
       "        vertical-align: top;\n",
       "    }\n",
       "\n",
       "    .dataframe thead th {\n",
       "        text-align: right;\n",
       "    }\n",
       "</style>\n",
       "<table border=\"1\" class=\"dataframe\">\n",
       "  <thead>\n",
       "    <tr style=\"text-align: right;\">\n",
       "      <th></th>\n",
       "      <th>0</th>\n",
       "      <th>1</th>\n",
       "      <th>2</th>\n",
       "      <th>3</th>\n",
       "      <th>4</th>\n",
       "      <th>5</th>\n",
       "      <th>6</th>\n",
       "      <th>7</th>\n",
       "      <th>8</th>\n",
       "      <th>9</th>\n",
       "      <th>...</th>\n",
       "      <th>5337</th>\n",
       "      <th>5338</th>\n",
       "      <th>5339</th>\n",
       "      <th>5340</th>\n",
       "      <th>5341</th>\n",
       "      <th>5342</th>\n",
       "      <th>5343</th>\n",
       "      <th>5344</th>\n",
       "      <th>5345</th>\n",
       "      <th>5346</th>\n",
       "    </tr>\n",
       "  </thead>\n",
       "  <tbody>\n",
       "    <tr>\n",
       "      <th>0</th>\n",
       "      <td>0.000245</td>\n",
       "      <td>1.301011</td>\n",
       "      <td>1.346834</td>\n",
       "      <td>1.429466</td>\n",
       "      <td>1.338387</td>\n",
       "      <td>1.394194</td>\n",
       "      <td>1.407308</td>\n",
       "      <td>1.400877</td>\n",
       "      <td>1.344027</td>\n",
       "      <td>1.296220</td>\n",
       "      <td>...</td>\n",
       "      <td>1.285526</td>\n",
       "      <td>1.310101</td>\n",
       "      <td>1.333959</td>\n",
       "      <td>1.458637</td>\n",
       "      <td>1.376790</td>\n",
       "      <td>1.369447</td>\n",
       "      <td>1.447985</td>\n",
       "      <td>1.377425</td>\n",
       "      <td>1.304651</td>\n",
       "      <td>1.391428</td>\n",
       "    </tr>\n",
       "    <tr>\n",
       "      <th>1</th>\n",
       "      <td>1.301011</td>\n",
       "      <td>0.000346</td>\n",
       "      <td>1.405703</td>\n",
       "      <td>1.235841</td>\n",
       "      <td>1.449009</td>\n",
       "      <td>1.395326</td>\n",
       "      <td>1.392000</td>\n",
       "      <td>1.385344</td>\n",
       "      <td>1.362445</td>\n",
       "      <td>1.270521</td>\n",
       "      <td>...</td>\n",
       "      <td>1.318262</td>\n",
       "      <td>1.234395</td>\n",
       "      <td>1.365381</td>\n",
       "      <td>1.387941</td>\n",
       "      <td>1.330185</td>\n",
       "      <td>1.472262</td>\n",
       "      <td>1.457337</td>\n",
       "      <td>1.408545</td>\n",
       "      <td>1.368038</td>\n",
       "      <td>1.398835</td>\n",
       "    </tr>\n",
       "    <tr>\n",
       "      <th>2</th>\n",
       "      <td>1.346834</td>\n",
       "      <td>1.405703</td>\n",
       "      <td>0.001079</td>\n",
       "      <td>1.243659</td>\n",
       "      <td>1.327545</td>\n",
       "      <td>1.351448</td>\n",
       "      <td>1.350103</td>\n",
       "      <td>1.382505</td>\n",
       "      <td>1.377236</td>\n",
       "      <td>1.417188</td>\n",
       "      <td>...</td>\n",
       "      <td>1.348266</td>\n",
       "      <td>1.380284</td>\n",
       "      <td>1.383299</td>\n",
       "      <td>1.302886</td>\n",
       "      <td>1.330516</td>\n",
       "      <td>1.308516</td>\n",
       "      <td>1.344271</td>\n",
       "      <td>1.299369</td>\n",
       "      <td>1.320701</td>\n",
       "      <td>1.342211</td>\n",
       "    </tr>\n",
       "    <tr>\n",
       "      <th>3</th>\n",
       "      <td>1.429466</td>\n",
       "      <td>1.235841</td>\n",
       "      <td>1.243659</td>\n",
       "      <td>0.001241</td>\n",
       "      <td>1.498292</td>\n",
       "      <td>1.425249</td>\n",
       "      <td>1.394169</td>\n",
       "      <td>1.342998</td>\n",
       "      <td>1.329272</td>\n",
       "      <td>1.296172</td>\n",
       "      <td>...</td>\n",
       "      <td>1.429340</td>\n",
       "      <td>1.280147</td>\n",
       "      <td>1.355492</td>\n",
       "      <td>1.362662</td>\n",
       "      <td>1.316638</td>\n",
       "      <td>1.428099</td>\n",
       "      <td>1.355567</td>\n",
       "      <td>1.309847</td>\n",
       "      <td>1.302229</td>\n",
       "      <td>1.364813</td>\n",
       "    </tr>\n",
       "    <tr>\n",
       "      <th>4</th>\n",
       "      <td>1.338387</td>\n",
       "      <td>1.449009</td>\n",
       "      <td>1.327545</td>\n",
       "      <td>1.498292</td>\n",
       "      <td>0.000691</td>\n",
       "      <td>1.422757</td>\n",
       "      <td>1.344475</td>\n",
       "      <td>1.334483</td>\n",
       "      <td>1.387344</td>\n",
       "      <td>1.442305</td>\n",
       "      <td>...</td>\n",
       "      <td>1.351743</td>\n",
       "      <td>1.356152</td>\n",
       "      <td>1.415975</td>\n",
       "      <td>1.449095</td>\n",
       "      <td>1.387152</td>\n",
       "      <td>1.335277</td>\n",
       "      <td>1.459730</td>\n",
       "      <td>1.340502</td>\n",
       "      <td>1.397037</td>\n",
       "      <td>1.374324</td>\n",
       "    </tr>\n",
       "    <tr>\n",
       "      <th>...</th>\n",
       "      <td>...</td>\n",
       "      <td>...</td>\n",
       "      <td>...</td>\n",
       "      <td>...</td>\n",
       "      <td>...</td>\n",
       "      <td>...</td>\n",
       "      <td>...</td>\n",
       "      <td>...</td>\n",
       "      <td>...</td>\n",
       "      <td>...</td>\n",
       "      <td>...</td>\n",
       "      <td>...</td>\n",
       "      <td>...</td>\n",
       "      <td>...</td>\n",
       "      <td>...</td>\n",
       "      <td>...</td>\n",
       "      <td>...</td>\n",
       "      <td>...</td>\n",
       "      <td>...</td>\n",
       "      <td>...</td>\n",
       "      <td>...</td>\n",
       "    </tr>\n",
       "    <tr>\n",
       "      <th>5342</th>\n",
       "      <td>1.369447</td>\n",
       "      <td>1.472262</td>\n",
       "      <td>1.308516</td>\n",
       "      <td>1.428099</td>\n",
       "      <td>1.335277</td>\n",
       "      <td>1.315868</td>\n",
       "      <td>1.328816</td>\n",
       "      <td>1.369591</td>\n",
       "      <td>1.396656</td>\n",
       "      <td>1.344488</td>\n",
       "      <td>...</td>\n",
       "      <td>1.324586</td>\n",
       "      <td>1.374035</td>\n",
       "      <td>1.343771</td>\n",
       "      <td>1.417828</td>\n",
       "      <td>1.367341</td>\n",
       "      <td>0.000733</td>\n",
       "      <td>1.411246</td>\n",
       "      <td>1.395088</td>\n",
       "      <td>1.360179</td>\n",
       "      <td>1.438054</td>\n",
       "    </tr>\n",
       "    <tr>\n",
       "      <th>5343</th>\n",
       "      <td>1.447985</td>\n",
       "      <td>1.457337</td>\n",
       "      <td>1.344271</td>\n",
       "      <td>1.355567</td>\n",
       "      <td>1.459730</td>\n",
       "      <td>1.357594</td>\n",
       "      <td>1.361504</td>\n",
       "      <td>1.399750</td>\n",
       "      <td>1.403747</td>\n",
       "      <td>1.479788</td>\n",
       "      <td>...</td>\n",
       "      <td>1.438778</td>\n",
       "      <td>1.418075</td>\n",
       "      <td>1.385789</td>\n",
       "      <td>1.235793</td>\n",
       "      <td>1.393883</td>\n",
       "      <td>1.411246</td>\n",
       "      <td>0.000001</td>\n",
       "      <td>1.392617</td>\n",
       "      <td>1.393255</td>\n",
       "      <td>1.401993</td>\n",
       "    </tr>\n",
       "    <tr>\n",
       "      <th>5344</th>\n",
       "      <td>1.377425</td>\n",
       "      <td>1.408545</td>\n",
       "      <td>1.299369</td>\n",
       "      <td>1.309847</td>\n",
       "      <td>1.340502</td>\n",
       "      <td>1.383974</td>\n",
       "      <td>1.390692</td>\n",
       "      <td>1.271456</td>\n",
       "      <td>1.403864</td>\n",
       "      <td>1.381487</td>\n",
       "      <td>...</td>\n",
       "      <td>1.369003</td>\n",
       "      <td>1.385245</td>\n",
       "      <td>1.398325</td>\n",
       "      <td>1.320248</td>\n",
       "      <td>1.191235</td>\n",
       "      <td>1.395088</td>\n",
       "      <td>1.392617</td>\n",
       "      <td>0.000423</td>\n",
       "      <td>1.383125</td>\n",
       "      <td>1.276822</td>\n",
       "    </tr>\n",
       "    <tr>\n",
       "      <th>5345</th>\n",
       "      <td>1.304651</td>\n",
       "      <td>1.368038</td>\n",
       "      <td>1.320701</td>\n",
       "      <td>1.302229</td>\n",
       "      <td>1.397037</td>\n",
       "      <td>1.324471</td>\n",
       "      <td>1.348641</td>\n",
       "      <td>1.356658</td>\n",
       "      <td>1.270065</td>\n",
       "      <td>1.254238</td>\n",
       "      <td>...</td>\n",
       "      <td>1.484795</td>\n",
       "      <td>1.353087</td>\n",
       "      <td>1.409889</td>\n",
       "      <td>1.394658</td>\n",
       "      <td>1.410398</td>\n",
       "      <td>1.360179</td>\n",
       "      <td>1.393255</td>\n",
       "      <td>1.383125</td>\n",
       "      <td>0.000691</td>\n",
       "      <td>1.365684</td>\n",
       "    </tr>\n",
       "    <tr>\n",
       "      <th>5346</th>\n",
       "      <td>1.391428</td>\n",
       "      <td>1.398835</td>\n",
       "      <td>1.342211</td>\n",
       "      <td>1.364813</td>\n",
       "      <td>1.374324</td>\n",
       "      <td>1.358418</td>\n",
       "      <td>1.321592</td>\n",
       "      <td>1.377292</td>\n",
       "      <td>1.273198</td>\n",
       "      <td>1.460502</td>\n",
       "      <td>...</td>\n",
       "      <td>1.406313</td>\n",
       "      <td>1.445280</td>\n",
       "      <td>1.484315</td>\n",
       "      <td>1.408856</td>\n",
       "      <td>1.354756</td>\n",
       "      <td>1.438054</td>\n",
       "      <td>1.401993</td>\n",
       "      <td>1.276822</td>\n",
       "      <td>1.365684</td>\n",
       "      <td>0.000245</td>\n",
       "    </tr>\n",
       "  </tbody>\n",
       "</table>\n",
       "<p>5347 rows × 5347 columns</p>\n",
       "</div>"
      ],
      "text/plain": [
       "             0         1         2         3         4         5         6  \\\n",
       "0     0.000245  1.301011  1.346834  1.429466  1.338387  1.394194  1.407308   \n",
       "1     1.301011  0.000346  1.405703  1.235841  1.449009  1.395326  1.392000   \n",
       "2     1.346834  1.405703  0.001079  1.243659  1.327545  1.351448  1.350103   \n",
       "3     1.429466  1.235841  1.243659  0.001241  1.498292  1.425249  1.394169   \n",
       "4     1.338387  1.449009  1.327545  1.498292  0.000691  1.422757  1.344475   \n",
       "...        ...       ...       ...       ...       ...       ...       ...   \n",
       "5342  1.369447  1.472262  1.308516  1.428099  1.335277  1.315868  1.328816   \n",
       "5343  1.447985  1.457337  1.344271  1.355567  1.459730  1.357594  1.361504   \n",
       "5344  1.377425  1.408545  1.299369  1.309847  1.340502  1.383974  1.390692   \n",
       "5345  1.304651  1.368038  1.320701  1.302229  1.397037  1.324471  1.348641   \n",
       "5346  1.391428  1.398835  1.342211  1.364813  1.374324  1.358418  1.321592   \n",
       "\n",
       "             7         8         9  ...      5337      5338      5339  \\\n",
       "0     1.400877  1.344027  1.296220  ...  1.285526  1.310101  1.333959   \n",
       "1     1.385344  1.362445  1.270521  ...  1.318262  1.234395  1.365381   \n",
       "2     1.382505  1.377236  1.417188  ...  1.348266  1.380284  1.383299   \n",
       "3     1.342998  1.329272  1.296172  ...  1.429340  1.280147  1.355492   \n",
       "4     1.334483  1.387344  1.442305  ...  1.351743  1.356152  1.415975   \n",
       "...        ...       ...       ...  ...       ...       ...       ...   \n",
       "5342  1.369591  1.396656  1.344488  ...  1.324586  1.374035  1.343771   \n",
       "5343  1.399750  1.403747  1.479788  ...  1.438778  1.418075  1.385789   \n",
       "5344  1.271456  1.403864  1.381487  ...  1.369003  1.385245  1.398325   \n",
       "5345  1.356658  1.270065  1.254238  ...  1.484795  1.353087  1.409889   \n",
       "5346  1.377292  1.273198  1.460502  ...  1.406313  1.445280  1.484315   \n",
       "\n",
       "          5340      5341      5342      5343      5344      5345      5346  \n",
       "0     1.458637  1.376790  1.369447  1.447985  1.377425  1.304651  1.391428  \n",
       "1     1.387941  1.330185  1.472262  1.457337  1.408545  1.368038  1.398835  \n",
       "2     1.302886  1.330516  1.308516  1.344271  1.299369  1.320701  1.342211  \n",
       "3     1.362662  1.316638  1.428099  1.355567  1.309847  1.302229  1.364813  \n",
       "4     1.449095  1.387152  1.335277  1.459730  1.340502  1.397037  1.374324  \n",
       "...        ...       ...       ...       ...       ...       ...       ...  \n",
       "5342  1.417828  1.367341  0.000733  1.411246  1.395088  1.360179  1.438054  \n",
       "5343  1.235793  1.393883  1.411246  0.000001  1.392617  1.393255  1.401993  \n",
       "5344  1.320248  1.191235  1.395088  1.392617  0.000423  1.383125  1.276822  \n",
       "5345  1.394658  1.410398  1.360179  1.393255  1.383125  0.000691  1.365684  \n",
       "5346  1.408856  1.354756  1.438054  1.401993  1.276822  1.365684  0.000245  \n",
       "\n",
       "[5347 rows x 5347 columns]"
      ]
     },
     "execution_count": 63,
     "metadata": {},
     "output_type": "execute_result"
    }
   ],
   "source": [
    "df"
   ]
  },
  {
   "cell_type": "code",
   "execution_count": 67,
   "metadata": {},
   "outputs": [
    {
     "data": {
      "text/plain": [
       "65.1219512195122"
      ]
     },
     "execution_count": 67,
     "metadata": {},
     "output_type": "execute_result"
    }
   ],
   "source": [
    "(4532 + 808) / 82"
   ]
  },
  {
   "cell_type": "code",
   "execution_count": 66,
   "metadata": {},
   "outputs": [
    {
     "data": {
      "text/plain": [
       "5340"
      ]
     },
     "execution_count": 66,
     "metadata": {},
     "output_type": "execute_result"
    }
   ],
   "source": [
    "4532 + 808"
   ]
  },
  {
   "cell_type": "code",
   "execution_count": 69,
   "metadata": {},
   "outputs": [
    {
     "data": {
      "text/plain": [
       "89.0"
      ]
     },
     "execution_count": 69,
     "metadata": {},
     "output_type": "execute_result"
    }
   ],
   "source": [
    "5340 / 60"
   ]
  },
  {
   "cell_type": "code",
   "execution_count": 32,
   "metadata": {},
   "outputs": [
    {
     "data": {
      "text/plain": [
       "'C:\\\\Users\\\\pschwarz\\\\AppData\\\\Local\\\\Continuum\\\\anaconda3\\\\envs\\\\torch\\\\python.exe'"
      ]
     },
     "execution_count": 32,
     "metadata": {},
     "output_type": "execute_result"
    }
   ],
   "source": [
    "import sys\n",
    "sys.executable"
   ]
  },
  {
   "cell_type": "code",
   "execution_count": 33,
   "metadata": {},
   "outputs": [],
   "source": [
    "def load_labels():\n",
    "    dtypes = {'id': 'int', 'name': 'str'}\n",
    "    label = pd.read_csv('../WC_input/label.csv', dtype=dtypes)\n",
    "    labelName = label['name'].tolist()\n",
    "    dict_label = {}\n",
    "    id = 0\n",
    "    for name in labelName:\n",
    "        if name == '-1':\n",
    "            dict_label[name] = 2233 * 2\n",
    "            continue\n",
    "        dict_label[name] = id\n",
    "        id += 1\n",
    "    return dict_label"
   ]
  },
  {
   "cell_type": "code",
   "execution_count": 34,
   "metadata": {},
   "outputs": [
    {
     "data": {
      "text/plain": [
       "4466"
      ]
     },
     "execution_count": 34,
     "metadata": {},
     "output_type": "execute_result"
    }
   ],
   "source": [
    "load_labels()['-1']"
   ]
  },
  {
   "cell_type": "code",
   "execution_count": 35,
   "metadata": {},
   "outputs": [
    {
     "data": {
      "text/plain": [
       "int"
      ]
     },
     "execution_count": 35,
     "metadata": {},
     "output_type": "execute_result"
    }
   ],
   "source": [
    "type(load_labels()['3583'])"
   ]
  },
  {
   "cell_type": "code",
   "execution_count": 37,
   "metadata": {},
   "outputs": [],
   "source": [
    "dtypes = {'id': 'int', 'name': 'str'}\n",
    "label = pd.read_csv('../WC_input/label.csv', dtype=dtypes)\n",
    "labelName = label['name'].tolist()\n",
    "dict_label = {}\n",
    "id = 0\n",
    "for name in labelName:\n",
    "    if name == '-1':\n",
    "        dict_label[name] = 2233 * 2\n",
    "        continue\n",
    "    dict_label[name] = id\n",
    "    id += 1"
   ]
  },
  {
   "cell_type": "code",
   "execution_count": 39,
   "metadata": {},
   "outputs": [
    {
     "name": "stdout",
     "output_type": "stream",
     "text": [
      "<class 'pandas.core.frame.DataFrame'>\n",
      "RangeIndex: 4539 entries, 0 to 4538\n",
      "Data columns (total 2 columns):\n",
      " #   Column  Non-Null Count  Dtype \n",
      "---  ------  --------------  ----- \n",
      " 0   id      4539 non-null   int32 \n",
      " 1   name    4539 non-null   object\n",
      "dtypes: int32(1), object(1)\n",
      "memory usage: 53.3+ KB\n"
     ]
    }
   ],
   "source": [
    "label.info()"
   ]
  },
  {
   "cell_type": "code",
   "execution_count": 41,
   "metadata": {},
   "outputs": [],
   "source": [
    "train = pd.read_csv('../prep/train.csv')"
   ]
  },
  {
   "cell_type": "code",
   "execution_count": 50,
   "metadata": {},
   "outputs": [
    {
     "name": "stdout",
     "output_type": "stream",
     "text": [
      "<class 'pandas.core.frame.DataFrame'>\n",
      "RangeIndex: 4539 entries, 0 to 4538\n",
      "Data columns (total 2 columns):\n",
      " #   Column  Non-Null Count  Dtype \n",
      "---  ------  --------------  ----- \n",
      " 0   Image   4539 non-null   object\n",
      " 1   Id      4539 non-null   object\n",
      "dtypes: object(2)\n",
      "memory usage: 71.0+ KB\n"
     ]
    }
   ],
   "source": [
    "train.info()"
   ]
  },
  {
   "cell_type": "code",
   "execution_count": 56,
   "metadata": {},
   "outputs": [],
   "source": [
    "i =2\n",
    "train_split_2 = pd.read_csv(f'valid_split_{i}.csv', dtype='object')"
   ]
  },
  {
   "cell_type": "code",
   "execution_count": 57,
   "metadata": {},
   "outputs": [
    {
     "name": "stdout",
     "output_type": "stream",
     "text": [
      "<class 'pandas.core.frame.DataFrame'>\n",
      "RangeIndex: 908 entries, 0 to 907\n",
      "Data columns (total 2 columns):\n",
      " #   Column  Non-Null Count  Dtype \n",
      "---  ------  --------------  ----- \n",
      " 0   Image   908 non-null    object\n",
      " 1   Id      908 non-null    object\n",
      "dtypes: object(2)\n",
      "memory usage: 14.3+ KB\n"
     ]
    }
   ],
   "source": [
    "train_split_2.info()"
   ]
  },
  {
   "cell_type": "code",
   "execution_count": 59,
   "metadata": {},
   "outputs": [
    {
     "data": {
      "text/plain": [
       "'2926'"
      ]
     },
     "execution_count": 59,
     "metadata": {},
     "output_type": "execute_result"
    }
   ],
   "source": [
    "train_split_2.loc[3].Id"
   ]
  },
  {
   "cell_type": "code",
   "execution_count": null,
   "metadata": {},
   "outputs": [],
   "source": []
  }
 ],
 "metadata": {
  "hide_input": false,
  "kernelspec": {
   "display_name": "torch",
   "language": "python",
   "name": "torch"
  },
  "language_info": {
   "codemirror_mode": {
    "name": "ipython",
    "version": 3
   },
   "file_extension": ".py",
   "mimetype": "text/x-python",
   "name": "python",
   "nbconvert_exporter": "python",
   "pygments_lexer": "ipython3",
   "version": "3.6.10"
  }
 },
 "nbformat": 4,
 "nbformat_minor": 4
}
