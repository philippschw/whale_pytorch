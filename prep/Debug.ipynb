{
 "cells": [
  {
   "cell_type": "code",
   "execution_count": 30,
   "metadata": {},
   "outputs": [],
   "source": [
    "import pandas as pd"
   ]
  },
  {
   "cell_type": "code",
   "execution_count": 31,
   "metadata": {},
   "outputs": [
    {
     "name": "stdout",
     "output_type": "stream",
     "text": [
      "Requirement already satisfied: ipdb in c:\\users\\pschwarz\\appdata\\local\\continuum\\anaconda3\\envs\\whale\\lib\\site-packages (0.13.2)\n",
      "Requirement already satisfied: setuptools in c:\\users\\pschwarz\\appdata\\local\\continuum\\anaconda3\\envs\\whale\\lib\\site-packages (from ipdb) (46.0.0.post20200309)\n",
      "Requirement already satisfied: ipython>=5.1.0; python_version >= \"3.4\" in c:\\users\\pschwarz\\appdata\\local\\continuum\\anaconda3\\envs\\whale\\lib\\site-packages (from ipdb) (7.13.0)\n",
      "Requirement already satisfied: decorator in c:\\users\\pschwarz\\appdata\\local\\continuum\\anaconda3\\envs\\whale\\lib\\site-packages (from ipython>=5.1.0; python_version >= \"3.4\"->ipdb) (4.4.2)\n",
      "Requirement already satisfied: jedi>=0.10 in c:\\users\\pschwarz\\appdata\\local\\continuum\\anaconda3\\envs\\whale\\lib\\site-packages (from ipython>=5.1.0; python_version >= \"3.4\"->ipdb) (0.16.0)\n",
      "Requirement already satisfied: pygments in c:\\users\\pschwarz\\appdata\\local\\continuum\\anaconda3\\envs\\whale\\lib\\site-packages (from ipython>=5.1.0; python_version >= \"3.4\"->ipdb) (2.5.2)\n",
      "Requirement already satisfied: backcall in c:\\users\\pschwarz\\appdata\\local\\continuum\\anaconda3\\envs\\whale\\lib\\site-packages (from ipython>=5.1.0; python_version >= \"3.4\"->ipdb) (0.1.0)\n",
      "Requirement already satisfied: traitlets>=4.2 in c:\\users\\pschwarz\\appdata\\local\\continuum\\anaconda3\\envs\\whale\\lib\\site-packages (from ipython>=5.1.0; python_version >= \"3.4\"->ipdb) (4.3.3)\n",
      "Requirement already satisfied: colorama; sys_platform == \"win32\" in c:\\users\\pschwarz\\appdata\\local\\continuum\\anaconda3\\envs\\whale\\lib\\site-packages (from ipython>=5.1.0; python_version >= \"3.4\"->ipdb) (0.4.3)\n",
      "Requirement already satisfied: prompt-toolkit!=3.0.0,!=3.0.1,<3.1.0,>=2.0.0 in c:\\users\\pschwarz\\appdata\\local\\continuum\\anaconda3\\envs\\whale\\lib\\site-packages (from ipython>=5.1.0; python_version >= \"3.4\"->ipdb) (3.0.3)\n",
      "Requirement already satisfied: pickleshare in c:\\users\\pschwarz\\appdata\\local\\continuum\\anaconda3\\envs\\whale\\lib\\site-packages (from ipython>=5.1.0; python_version >= \"3.4\"->ipdb) (0.7.5)\n",
      "Requirement already satisfied: parso>=0.5.2 in c:\\users\\pschwarz\\appdata\\local\\continuum\\anaconda3\\envs\\whale\\lib\\site-packages (from jedi>=0.10->ipython>=5.1.0; python_version >= \"3.4\"->ipdb) (0.6.1)\n",
      "Requirement already satisfied: ipython-genutils in c:\\users\\pschwarz\\appdata\\local\\continuum\\anaconda3\\envs\\whale\\lib\\site-packages (from traitlets>=4.2->ipython>=5.1.0; python_version >= \"3.4\"->ipdb) (0.2.0)\n",
      "Requirement already satisfied: six in c:\\users\\pschwarz\\appdata\\local\\continuum\\anaconda3\\envs\\whale\\lib\\site-packages (from traitlets>=4.2->ipython>=5.1.0; python_version >= \"3.4\"->ipdb) (1.14.0)\n",
      "Requirement already satisfied: wcwidth in c:\\users\\pschwarz\\appdata\\local\\continuum\\anaconda3\\envs\\whale\\lib\\site-packages (from prompt-toolkit!=3.0.0,!=3.0.1,<3.1.0,>=2.0.0->ipython>=5.1.0; python_version >= \"3.4\"->ipdb) (0.1.8)\n"
     ]
    }
   ],
   "source": [
    "!pip install ipdb"
   ]
  },
  {
   "cell_type": "code",
   "execution_count": 32,
   "metadata": {},
   "outputs": [
    {
     "data": {
      "text/plain": [
       "'C:\\\\Users\\\\pschwarz\\\\AppData\\\\Local\\\\Continuum\\\\anaconda3\\\\envs\\\\torch\\\\python.exe'"
      ]
     },
     "execution_count": 32,
     "metadata": {},
     "output_type": "execute_result"
    }
   ],
   "source": [
    "import sys\n",
    "sys.executable"
   ]
  },
  {
   "cell_type": "code",
   "execution_count": 33,
   "metadata": {},
   "outputs": [],
   "source": [
    "def load_labels():\n",
    "    dtypes = {'id': 'int', 'name': 'str'}\n",
    "    label = pd.read_csv('../WC_input/label.csv', dtype=dtypes)\n",
    "    labelName = label['name'].tolist()\n",
    "    dict_label = {}\n",
    "    id = 0\n",
    "    for name in labelName:\n",
    "        if name == '-1':\n",
    "            dict_label[name] = 2233 * 2\n",
    "            continue\n",
    "        dict_label[name] = id\n",
    "        id += 1\n",
    "    return dict_label"
   ]
  },
  {
   "cell_type": "code",
   "execution_count": 34,
   "metadata": {},
   "outputs": [
    {
     "data": {
      "text/plain": [
       "4466"
      ]
     },
     "execution_count": 34,
     "metadata": {},
     "output_type": "execute_result"
    }
   ],
   "source": [
    "load_labels()['-1']"
   ]
  },
  {
   "cell_type": "code",
   "execution_count": 35,
   "metadata": {},
   "outputs": [
    {
     "data": {
      "text/plain": [
       "int"
      ]
     },
     "execution_count": 35,
     "metadata": {},
     "output_type": "execute_result"
    }
   ],
   "source": [
    "type(load_labels()['3583'])"
   ]
  },
  {
   "cell_type": "code",
   "execution_count": 37,
   "metadata": {},
   "outputs": [],
   "source": [
    "dtypes = {'id': 'int', 'name': 'str'}\n",
    "label = pd.read_csv('../WC_input/label.csv', dtype=dtypes)\n",
    "labelName = label['name'].tolist()\n",
    "dict_label = {}\n",
    "id = 0\n",
    "for name in labelName:\n",
    "    if name == '-1':\n",
    "        dict_label[name] = 2233 * 2\n",
    "        continue\n",
    "    dict_label[name] = id\n",
    "    id += 1"
   ]
  },
  {
   "cell_type": "code",
   "execution_count": 39,
   "metadata": {},
   "outputs": [
    {
     "name": "stdout",
     "output_type": "stream",
     "text": [
      "<class 'pandas.core.frame.DataFrame'>\n",
      "RangeIndex: 4539 entries, 0 to 4538\n",
      "Data columns (total 2 columns):\n",
      " #   Column  Non-Null Count  Dtype \n",
      "---  ------  --------------  ----- \n",
      " 0   id      4539 non-null   int32 \n",
      " 1   name    4539 non-null   object\n",
      "dtypes: int32(1), object(1)\n",
      "memory usage: 53.3+ KB\n"
     ]
    }
   ],
   "source": [
    "label.info()"
   ]
  },
  {
   "cell_type": "code",
   "execution_count": 41,
   "metadata": {},
   "outputs": [],
   "source": [
    "train = pd.read_csv('../prep/train.csv')"
   ]
  },
  {
   "cell_type": "code",
   "execution_count": 50,
   "metadata": {},
   "outputs": [
    {
     "name": "stdout",
     "output_type": "stream",
     "text": [
      "<class 'pandas.core.frame.DataFrame'>\n",
      "RangeIndex: 4539 entries, 0 to 4538\n",
      "Data columns (total 2 columns):\n",
      " #   Column  Non-Null Count  Dtype \n",
      "---  ------  --------------  ----- \n",
      " 0   Image   4539 non-null   object\n",
      " 1   Id      4539 non-null   object\n",
      "dtypes: object(2)\n",
      "memory usage: 71.0+ KB\n"
     ]
    }
   ],
   "source": [
    "train.info()"
   ]
  },
  {
   "cell_type": "code",
   "execution_count": 56,
   "metadata": {},
   "outputs": [],
   "source": [
    "i =2\n",
    "train_split_2 = pd.read_csv(f'valid_split_{i}.csv', dtype='object')"
   ]
  },
  {
   "cell_type": "code",
   "execution_count": 57,
   "metadata": {},
   "outputs": [
    {
     "name": "stdout",
     "output_type": "stream",
     "text": [
      "<class 'pandas.core.frame.DataFrame'>\n",
      "RangeIndex: 908 entries, 0 to 907\n",
      "Data columns (total 2 columns):\n",
      " #   Column  Non-Null Count  Dtype \n",
      "---  ------  --------------  ----- \n",
      " 0   Image   908 non-null    object\n",
      " 1   Id      908 non-null    object\n",
      "dtypes: object(2)\n",
      "memory usage: 14.3+ KB\n"
     ]
    }
   ],
   "source": [
    "train_split_2.info()"
   ]
  },
  {
   "cell_type": "code",
   "execution_count": 59,
   "metadata": {},
   "outputs": [
    {
     "data": {
      "text/plain": [
       "'2926'"
      ]
     },
     "execution_count": 59,
     "metadata": {},
     "output_type": "execute_result"
    }
   ],
   "source": [
    "train_split_2.loc[3].Id"
   ]
  },
  {
   "cell_type": "code",
   "execution_count": null,
   "metadata": {},
   "outputs": [],
   "source": []
  }
 ],
 "metadata": {
  "hide_input": false,
  "kernelspec": {
   "display_name": "torch",
   "language": "python",
   "name": "torch"
  },
  "language_info": {
   "codemirror_mode": {
    "name": "ipython",
    "version": 3
   },
   "file_extension": ".py",
   "mimetype": "text/x-python",
   "name": "python",
   "nbconvert_exporter": "python",
   "pygments_lexer": "ipython3",
   "version": "3.6.10"
  }
 },
 "nbformat": 4,
 "nbformat_minor": 4
}
