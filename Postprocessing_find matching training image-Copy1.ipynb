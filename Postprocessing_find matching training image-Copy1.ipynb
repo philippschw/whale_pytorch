{
 "cells": [
  {
   "cell_type": "markdown",
   "metadata": {},
   "source": [
    "Other Ideas:\n",
    "- Check whether images that are both in the test dataset are symetrically ranked highly\n",
    "- Remove -1 images\n",
    "- For ties in euclidean distance, select image that has a smaller time difference to reference image\n",
    "- Use all data, also from kaggle\n",
    "- Use ensemble \n",
    "- Use 2. place winner solution\n"
   ]
  },
  {
   "cell_type": "code",
   "execution_count": 1,
   "metadata": {},
   "outputs": [],
   "source": [
    "import pandas as pd"
   ]
  },
  {
   "cell_type": "code",
   "execution_count": 2,
   "metadata": {},
   "outputs": [],
   "source": [
    "model_name = 'seresnext101'\n",
    "fold = 3\n",
    "checkpoint = '17400'\n",
    "algo = 'dist_global_avg'"
   ]
  },
  {
   "cell_type": "code",
   "execution_count": 3,
   "metadata": {},
   "outputs": [],
   "source": [
    "df = pd.read_csv(f'WC_result/{model_name}_{fold}/out_{checkpoint}/{model_name}_sub_fold{fold}_{algo}.csv', header=None)\n"
   ]
  },
  {
   "cell_type": "code",
   "execution_count": 4,
   "metadata": {},
   "outputs": [],
   "source": [
    "fp = '/home/pt-support/Humpback-Whale-Identification-1st-/WC_input/'\n",
    "train = pd.read_csv(fp+'train.csv') \n",
    "image_to_id = dict(zip(train.Image, train.Id))\n",
    "\n",
    "train = train.groupby('Id')['Image'].agg({lambda x: set(x)})\n",
    "id_to_images = dict(zip(train.index, train.iloc[:, 0]))"
   ]
  },
  {
   "cell_type": "code",
   "execution_count": 5,
   "metadata": {},
   "outputs": [
    {
     "data": {
      "text/plain": [
       "{'PM-WWA-20090612-092.jpg',\n",
       " 'PM-WWA-20090811-188.jpg',\n",
       " 'PM-WWA-20090813-127.jpg',\n",
       " 'PM-WWA-20100716-156.jpg',\n",
       " 'PM-WWA-20100723-468.jpg',\n",
       " 'PM-WWA-20120617-014.jpg',\n",
       " 'PM-WWA-20140627-075.jpg',\n",
       " 'PM-WWA-20160722-035.jpg',\n",
       " 'PM-WWA-20160726-060.jpg'}"
      ]
     },
     "execution_count": 5,
     "metadata": {},
     "output_type": "execute_result"
    }
   ],
   "source": [
    "id_to_images[image_to_id['PM-WWA-20160722-035.jpg']]"
   ]
  },
  {
   "cell_type": "code",
   "execution_count": 6,
   "metadata": {},
   "outputs": [
    {
     "data": {
      "text/plain": [
       "{'PM-WWA-20090811-188.jpg',\n",
       " 'PM-WWA-20090813-127.jpg',\n",
       " 'PM-WWA-20100716-156.jpg'}"
      ]
     },
     "execution_count": 6,
     "metadata": {},
     "output_type": "execute_result"
    }
   ],
   "source": [
    "id_to_images[image_to_id['PM-WWA-20160722-035.jpg']] - set(df.iloc[0])"
   ]
  },
  {
   "cell_type": "code",
   "execution_count": 7,
   "metadata": {},
   "outputs": [
    {
     "data": {
      "text/html": [
       "<div>\n",
       "<style scoped>\n",
       "    .dataframe tbody tr th:only-of-type {\n",
       "        vertical-align: middle;\n",
       "    }\n",
       "\n",
       "    .dataframe tbody tr th {\n",
       "        vertical-align: top;\n",
       "    }\n",
       "\n",
       "    .dataframe thead th {\n",
       "        text-align: right;\n",
       "    }\n",
       "</style>\n",
       "<table border=\"1\" class=\"dataframe\">\n",
       "  <thead>\n",
       "    <tr style=\"text-align: right;\">\n",
       "      <th></th>\n",
       "      <th>0</th>\n",
       "      <th>1</th>\n",
       "      <th>2</th>\n",
       "      <th>3</th>\n",
       "      <th>4</th>\n",
       "      <th>5</th>\n",
       "      <th>6</th>\n",
       "      <th>7</th>\n",
       "      <th>8</th>\n",
       "      <th>9</th>\n",
       "      <th>...</th>\n",
       "      <th>11</th>\n",
       "      <th>12</th>\n",
       "      <th>13</th>\n",
       "      <th>14</th>\n",
       "      <th>15</th>\n",
       "      <th>16</th>\n",
       "      <th>17</th>\n",
       "      <th>18</th>\n",
       "      <th>19</th>\n",
       "      <th>20</th>\n",
       "    </tr>\n",
       "  </thead>\n",
       "  <tbody>\n",
       "  </tbody>\n",
       "</table>\n",
       "<p>0 rows × 21 columns</p>\n",
       "</div>"
      ],
      "text/plain": [
       "Empty DataFrame\n",
       "Columns: [0, 1, 2, 3, 4, 5, 6, 7, 8, 9, 10, 11, 12, 13, 14, 15, 16, 17, 18, 19, 20]\n",
       "Index: []\n",
       "\n",
       "[0 rows x 21 columns]"
      ]
     },
     "execution_count": 7,
     "metadata": {},
     "output_type": "execute_result"
    }
   ],
   "source": [
    "df[df.apply(lambda x: len(set(x)), axis=1) != 21]"
   ]
  },
  {
   "cell_type": "code",
   "execution_count": 8,
   "metadata": {},
   "outputs": [
    {
     "data": {
      "text/plain": [
       "(21,)"
      ]
     },
     "execution_count": 8,
     "metadata": {},
     "output_type": "execute_result"
    }
   ],
   "source": [
    "df.iloc[13].unique().shape"
   ]
  },
  {
   "cell_type": "code",
   "execution_count": 9,
   "metadata": {},
   "outputs": [
    {
     "data": {
      "text/plain": [
       "['PM-WWA-20090612-092.jpg',\n",
       " 'PM-WWA-20160726-060.jpg',\n",
       " 'PM-WWA-20120617-014.jpg',\n",
       " 'PM-WWA-20090813-127.jpg',\n",
       " 'PM-WWA-20090811-188.jpg',\n",
       " 'PM-WWA-20100723-468.jpg',\n",
       " 'PM-WWA-20100716-156.jpg',\n",
       " 'PM-WWA-20140627-075.jpg']"
      ]
     },
     "execution_count": 9,
     "metadata": {},
     "output_type": "execute_result"
    }
   ],
   "source": [
    "list(id_to_images[image_to_id['PM-WWA-20160722-035.jpg']] - {'PM-WWA-20160722-035.jpg'})"
   ]
  },
  {
   "cell_type": "code",
   "execution_count": 10,
   "metadata": {},
   "outputs": [],
   "source": [
    "def get_train_img_class(row):\n",
    "    ref = row[0]\n",
    "    s = row[1:].copy()\n",
    "    start = 0\n",
    "    result = []\n",
    "    for i, img in enumerate(row[1:]):\n",
    "        try:\n",
    "            imgs_same_class = list(id_to_images[image_to_id[img]])\n",
    "            imgs_same_class = [e for e in imgs_same_class if e not in result]\n",
    "            result.extend(imgs_same_class)                \n",
    "        except:\n",
    "            result.extend([img])\n",
    "        \n",
    "    return ([ref] + result)[:21]\n"
   ]
  },
  {
   "cell_type": "code",
   "execution_count": 11,
   "metadata": {},
   "outputs": [],
   "source": [
    "df['new'] = df.apply(lambda x: get_train_img_class(x), axis=1)"
   ]
  },
  {
   "cell_type": "code",
   "execution_count": 12,
   "metadata": {},
   "outputs": [
    {
     "data": {
      "text/plain": [
       "0      21\n",
       "1      21\n",
       "2      21\n",
       "3      21\n",
       "4      21\n",
       "       ..\n",
       "803    21\n",
       "804    21\n",
       "805    21\n",
       "806    21\n",
       "807    21\n",
       "Name: new, Length: 808, dtype: int64"
      ]
     },
     "execution_count": 12,
     "metadata": {},
     "output_type": "execute_result"
    }
   ],
   "source": [
    "df['new'].map(lambda x: len(set(x)))"
   ]
  },
  {
   "cell_type": "code",
   "execution_count": 13,
   "metadata": {},
   "outputs": [
    {
     "data": {
      "text/html": [
       "<div>\n",
       "<style scoped>\n",
       "    .dataframe tbody tr th:only-of-type {\n",
       "        vertical-align: middle;\n",
       "    }\n",
       "\n",
       "    .dataframe tbody tr th {\n",
       "        vertical-align: top;\n",
       "    }\n",
       "\n",
       "    .dataframe thead th {\n",
       "        text-align: right;\n",
       "    }\n",
       "</style>\n",
       "<table border=\"1\" class=\"dataframe\">\n",
       "  <thead>\n",
       "    <tr style=\"text-align: right;\">\n",
       "      <th></th>\n",
       "      <th>0</th>\n",
       "      <th>1</th>\n",
       "      <th>2</th>\n",
       "      <th>3</th>\n",
       "      <th>4</th>\n",
       "      <th>5</th>\n",
       "      <th>6</th>\n",
       "      <th>7</th>\n",
       "      <th>8</th>\n",
       "      <th>9</th>\n",
       "      <th>...</th>\n",
       "      <th>12</th>\n",
       "      <th>13</th>\n",
       "      <th>14</th>\n",
       "      <th>15</th>\n",
       "      <th>16</th>\n",
       "      <th>17</th>\n",
       "      <th>18</th>\n",
       "      <th>19</th>\n",
       "      <th>20</th>\n",
       "      <th>new</th>\n",
       "    </tr>\n",
       "  </thead>\n",
       "  <tbody>\n",
       "    <tr>\n",
       "      <th>805</th>\n",
       "      <td>PM-WWA-20170801-061.jpg</td>\n",
       "      <td>PM-WWA-20170714-364.jpg</td>\n",
       "      <td>PM-WWA-20170715-021.jpg</td>\n",
       "      <td>PM-WWA-20180913-272.jpg</td>\n",
       "      <td>PM-WWA-20170719-203.jpg</td>\n",
       "      <td>PM-WWA-20120803-208.jpg</td>\n",
       "      <td>PM-WWA-20070619-018.jpg</td>\n",
       "      <td>PM-WWA-20170919-137.jpg</td>\n",
       "      <td>PM-WWA-20140813-020.jpg</td>\n",
       "      <td>PM-WWA-20180606-066.jpg</td>\n",
       "      <td>...</td>\n",
       "      <td>PM-WWA-20140822-301.jpg</td>\n",
       "      <td>PM-WWA-20100930-017.jpg</td>\n",
       "      <td>PM-WWA-20130815-399.jpg</td>\n",
       "      <td>PM-WWA-20060608-034.jpg</td>\n",
       "      <td>PM-WWA-20090425-378.jpg</td>\n",
       "      <td>PM-WWA-20060530-A003.jpg</td>\n",
       "      <td>PM-WWA-20120623-069.jpg</td>\n",
       "      <td>PM-WWA-20120804-082.jpg</td>\n",
       "      <td>PM-WWA-20100831-021.jpg</td>\n",
       "      <td>[PM-WWA-20170801-061.jpg, PM-WWA-20170714-364....</td>\n",
       "    </tr>\n",
       "    <tr>\n",
       "      <th>806</th>\n",
       "      <td>PM-WWA-20180713-173.jpg</td>\n",
       "      <td>PM-WWA-20160705-107.jpg</td>\n",
       "      <td>PM-WWA-20110615-009.jpg</td>\n",
       "      <td>PM-WWA-201006018-016.jpg</td>\n",
       "      <td>PM-WWA-20140608-153.jpg</td>\n",
       "      <td>PM-WWA-20090712-020.jpg</td>\n",
       "      <td>PM-WWA-20090704-126.jpg</td>\n",
       "      <td>PM-WWA-20110720-083.jpg</td>\n",
       "      <td>PM-WWA-20080727-097.jpg</td>\n",
       "      <td>PM-WWA-20110811-079.jpg</td>\n",
       "      <td>...</td>\n",
       "      <td>PM-WWA-20180806-015.jpg</td>\n",
       "      <td>PM-WWA-20080426-184.jpg</td>\n",
       "      <td>PM-WWA-20150726-173.jpg</td>\n",
       "      <td>PM-WWA-20170727-157.jpg</td>\n",
       "      <td>PM-WWA-20090623-011.jpg</td>\n",
       "      <td>PM-WWA-20090406-030.jpg</td>\n",
       "      <td>PM-WWA-20101023-049.jpg</td>\n",
       "      <td>PM-WWA-20080527-077.jpg</td>\n",
       "      <td>PM-WWA-20080824-084.jpg</td>\n",
       "      <td>[PM-WWA-20180713-173.jpg, PM-WWA-20090712-020....</td>\n",
       "    </tr>\n",
       "    <tr>\n",
       "      <th>807</th>\n",
       "      <td>PM-WWA-20170510-814.jpg</td>\n",
       "      <td>PM-WWA-20080513-136.jpg</td>\n",
       "      <td>PM-WWA-20050723-176.jpg</td>\n",
       "      <td>PM-WWA-20080728-026.jpg</td>\n",
       "      <td>PM-WWA-20150519-521.jpg</td>\n",
       "      <td>PM-WWA-20110520-124.jpg</td>\n",
       "      <td>PM-WWA-20180714-051.jpg</td>\n",
       "      <td>PM-WWA-20150526-063.jpg</td>\n",
       "      <td>PM-WWA-201006015-033.jpg</td>\n",
       "      <td>PM-WWA-20090614-084.jpg</td>\n",
       "      <td>...</td>\n",
       "      <td>PM-WWA-20070515-006.jpg</td>\n",
       "      <td>PM-WWA-20070901-047.jpg</td>\n",
       "      <td>PM-WWA-20150718-124.jpg</td>\n",
       "      <td>PM-WWA-20080819-105.jpg</td>\n",
       "      <td>PM-WWA-201006013-330.jpg</td>\n",
       "      <td>PM-WWA-20140626-100.jpg</td>\n",
       "      <td>PM-WWA-20120717-111.jpg</td>\n",
       "      <td>PM-WWA-20050704-005.jpg</td>\n",
       "      <td>PM-WWA-20160808-037.jpg</td>\n",
       "      <td>[PM-WWA-20170510-814.jpg, PM-WWA-20080728-026....</td>\n",
       "    </tr>\n",
       "  </tbody>\n",
       "</table>\n",
       "<p>3 rows × 22 columns</p>\n",
       "</div>"
      ],
      "text/plain": [
       "                           0                        1  \\\n",
       "805  PM-WWA-20170801-061.jpg  PM-WWA-20170714-364.jpg   \n",
       "806  PM-WWA-20180713-173.jpg  PM-WWA-20160705-107.jpg   \n",
       "807  PM-WWA-20170510-814.jpg  PM-WWA-20080513-136.jpg   \n",
       "\n",
       "                           2                         3  \\\n",
       "805  PM-WWA-20170715-021.jpg   PM-WWA-20180913-272.jpg   \n",
       "806  PM-WWA-20110615-009.jpg  PM-WWA-201006018-016.jpg   \n",
       "807  PM-WWA-20050723-176.jpg   PM-WWA-20080728-026.jpg   \n",
       "\n",
       "                           4                        5  \\\n",
       "805  PM-WWA-20170719-203.jpg  PM-WWA-20120803-208.jpg   \n",
       "806  PM-WWA-20140608-153.jpg  PM-WWA-20090712-020.jpg   \n",
       "807  PM-WWA-20150519-521.jpg  PM-WWA-20110520-124.jpg   \n",
       "\n",
       "                           6                        7  \\\n",
       "805  PM-WWA-20070619-018.jpg  PM-WWA-20170919-137.jpg   \n",
       "806  PM-WWA-20090704-126.jpg  PM-WWA-20110720-083.jpg   \n",
       "807  PM-WWA-20180714-051.jpg  PM-WWA-20150526-063.jpg   \n",
       "\n",
       "                            8                        9  ...  \\\n",
       "805   PM-WWA-20140813-020.jpg  PM-WWA-20180606-066.jpg  ...   \n",
       "806   PM-WWA-20080727-097.jpg  PM-WWA-20110811-079.jpg  ...   \n",
       "807  PM-WWA-201006015-033.jpg  PM-WWA-20090614-084.jpg  ...   \n",
       "\n",
       "                          12                       13  \\\n",
       "805  PM-WWA-20140822-301.jpg  PM-WWA-20100930-017.jpg   \n",
       "806  PM-WWA-20180806-015.jpg  PM-WWA-20080426-184.jpg   \n",
       "807  PM-WWA-20070515-006.jpg  PM-WWA-20070901-047.jpg   \n",
       "\n",
       "                          14                       15  \\\n",
       "805  PM-WWA-20130815-399.jpg  PM-WWA-20060608-034.jpg   \n",
       "806  PM-WWA-20150726-173.jpg  PM-WWA-20170727-157.jpg   \n",
       "807  PM-WWA-20150718-124.jpg  PM-WWA-20080819-105.jpg   \n",
       "\n",
       "                           16                        17  \\\n",
       "805   PM-WWA-20090425-378.jpg  PM-WWA-20060530-A003.jpg   \n",
       "806   PM-WWA-20090623-011.jpg   PM-WWA-20090406-030.jpg   \n",
       "807  PM-WWA-201006013-330.jpg   PM-WWA-20140626-100.jpg   \n",
       "\n",
       "                          18                       19  \\\n",
       "805  PM-WWA-20120623-069.jpg  PM-WWA-20120804-082.jpg   \n",
       "806  PM-WWA-20101023-049.jpg  PM-WWA-20080527-077.jpg   \n",
       "807  PM-WWA-20120717-111.jpg  PM-WWA-20050704-005.jpg   \n",
       "\n",
       "                          20  \\\n",
       "805  PM-WWA-20100831-021.jpg   \n",
       "806  PM-WWA-20080824-084.jpg   \n",
       "807  PM-WWA-20160808-037.jpg   \n",
       "\n",
       "                                                   new  \n",
       "805  [PM-WWA-20170801-061.jpg, PM-WWA-20170714-364....  \n",
       "806  [PM-WWA-20180713-173.jpg, PM-WWA-20090712-020....  \n",
       "807  [PM-WWA-20170510-814.jpg, PM-WWA-20080728-026....  \n",
       "\n",
       "[3 rows x 22 columns]"
      ]
     },
     "execution_count": 13,
     "metadata": {},
     "output_type": "execute_result"
    }
   ],
   "source": [
    "df.tail(3)"
   ]
  },
  {
   "cell_type": "code",
   "execution_count": 14,
   "metadata": {},
   "outputs": [],
   "source": [
    "df['new'].apply(pd.Series).to_csv(f'WC_result/{model_name}_{fold}/out_{checkpoint}/postprocessing_{model_name}_sub_fold{fold}_{algo}.csv',\n",
    "                                  header=None, index=False)"
   ]
  }
 ],
 "metadata": {
  "kernelspec": {
   "display_name": "Python [conda env:py37_pytorch]",
   "language": "python",
   "name": "conda-env-py37_pytorch-py"
  },
  "language_info": {
   "codemirror_mode": {
    "name": "ipython",
    "version": 3
   },
   "file_extension": ".py",
   "mimetype": "text/x-python",
   "name": "python",
   "nbconvert_exporter": "python",
   "pygments_lexer": "ipython3",
   "version": "3.7.6"
  }
 },
 "nbformat": 4,
 "nbformat_minor": 4
}
