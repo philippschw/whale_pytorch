{
 "cells": [
  {
   "cell_type": "code",
   "execution_count": 1,
   "metadata": {},
   "outputs": [],
   "source": [
    "import pandas as pd\n",
    "import numpy as np\n",
    "import os\n",
    "import torch\n",
    "from tqdm import tqdm\n",
    "from models import *\n",
    "from reader import *\n",
    "import os\n",
    "import shutil\n",
    "os.environ['CUDA_VISIBLE_DEVICES'] = '0'\n",
    "num_TTA = 2\n",
    "\n",
    "import ipdb"
   ]
  },
  {
   "cell_type": "code",
   "execution_count": 2,
   "metadata": {},
   "outputs": [
    {
     "name": "stderr",
     "output_type": "stream",
     "text": [
      "  0%|          | 0/305626 [00:00<?, ?it/s]\n"
     ]
    }
   ],
   "source": [
    "dst_test = WhaleTestDataset()\n",
    "dataloader_test = DataLoader(dst_test, batch_size=12, num_workers=18)\n",
    "for data in tqdm(dataloader_test):\n",
    "    images, names = data\n",
    "    break"
   ]
  },
  {
   "cell_type": "code",
   "execution_count": 3,
   "metadata": {},
   "outputs": [
    {
     "data": {
      "text/plain": [
       "torch.Size([12, 4096])"
      ]
     },
     "execution_count": 3,
     "metadata": {},
     "output_type": "execute_result"
    }
   ],
   "source": [
    "images.shape"
   ]
  },
  {
   "cell_type": "code",
   "execution_count": 4,
   "metadata": {},
   "outputs": [
    {
     "data": {
      "text/plain": [
       "('PM-WWA-20180811-093.jpg|PM-WWA-20140813-067.jpg',\n",
       " 'PM-WWA-20180811-093.jpg|PM-WWA-20140617-024.jpg',\n",
       " 'PM-WWA-20180811-093.jpg|PM-WWA-20140412-171.jpg',\n",
       " 'PM-WWA-20180811-093.jpg|PM-WWA-20110707-096.jpg',\n",
       " 'PM-WWA-20180811-093.jpg|PM-WWA-20160804-043.jpg',\n",
       " 'PM-WWA-20180811-093.jpg|PM-WWA-20120727-126.jpg',\n",
       " 'PM-WWA-20180811-093.jpg|PM-WWA-20161007-053.jpg',\n",
       " 'PM-WWA-20180811-093.jpg|PM-WWA-20070616-056.jpg',\n",
       " 'PM-WWA-20180811-093.jpg|PM-WWA-20100715-059.jpg',\n",
       " 'PM-WWA-20180811-093.jpg|PM-WWA-20110609-073.jpg',\n",
       " 'PM-WWA-20180811-093.jpg|PM-WWA-20080707-164.jpg',\n",
       " 'PM-WWA-20180811-093.jpg|PM-WWA-20110816-008.jpg')"
      ]
     },
     "execution_count": 4,
     "metadata": {},
     "output_type": "execute_result"
    }
   ],
   "source": [
    "names"
   ]
  },
  {
   "cell_type": "code",
   "execution_count": 5,
   "metadata": {},
   "outputs": [
    {
     "ename": "AttributeError",
     "evalue": "'tuple' object has no attribute 'join'",
     "output_type": "error",
     "traceback": [
      "\u001b[0;31m---------------------------------------------------------------------------\u001b[0m",
      "\u001b[0;31mAttributeError\u001b[0m                            Traceback (most recent call last)",
      "\u001b[0;32m<ipython-input-5-8c5ad9a1fdba>\u001b[0m in \u001b[0;36m<module>\u001b[0;34m\u001b[0m\n\u001b[0;32m----> 1\u001b[0;31m \u001b[0mnames\u001b[0m\u001b[0;34m.\u001b[0m\u001b[0mjoin\u001b[0m\u001b[0;34m(\u001b[0m\u001b[0;34m''\u001b[0m\u001b[0;34m)\u001b[0m\u001b[0;34m\u001b[0m\u001b[0;34m\u001b[0m\u001b[0m\n\u001b[0m",
      "\u001b[0;31mAttributeError\u001b[0m: 'tuple' object has no attribute 'join'"
     ]
    }
   ],
   "source": [
    "names.join('')"
   ]
  },
  {
   "cell_type": "code",
   "execution_count": null,
   "metadata": {},
   "outputs": [],
   "source": [
    "1024"
   ]
  }
 ],
 "metadata": {
  "kernelspec": {
   "display_name": "Python [conda env:fastai]",
   "language": "python",
   "name": "conda-env-fastai-py"
  },
  "language_info": {
   "codemirror_mode": {
    "name": "ipython",
    "version": 3
   },
   "file_extension": ".py",
   "mimetype": "text/x-python",
   "name": "python",
   "nbconvert_exporter": "python",
   "pygments_lexer": "ipython3",
   "version": "3.6.10"
  }
 },
 "nbformat": 4,
 "nbformat_minor": 4
}
