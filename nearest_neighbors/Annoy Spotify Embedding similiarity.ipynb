{
 "cells": [
  {
   "cell_type": "code",
   "execution_count": 1,
   "metadata": {},
   "outputs": [],
   "source": [
    "import pandas as pd\n",
    "import numpy as np\n",
    "from time import time\n",
    "from tqdm import tqdm\n",
    "tqdm.pandas()\n",
    "\n",
    "model_name = 'seresnext101'\n",
    "fold = 2\n",
    "checkpoint = '17600'\n",
    "algo = 'dist_global_org'\n",
    "\n",
    "nums = [model_name,fold,\n",
    "        checkpoint,\n",
    "        model_name,\n",
    "        fold,algo]"
   ]
  },
  {
   "cell_type": "code",
   "execution_count": 3,
   "metadata": {},
   "outputs": [],
   "source": [
    "top20 = pd.read_csv('../WC_result/{0}_{1}/out_{2}/{3}_sub_fold{4}_{5}.csv'.format(*nums), header=None)\n",
    "top20 = top20.set_index(0)"
   ]
  },
  {
   "cell_type": "code",
   "execution_count": 4,
   "metadata": {},
   "outputs": [],
   "source": [
    "enc = pd.read_csv('../WC_result/{0}_{1}/out_{2}/encoding_org_img.csv'.format(*nums), header=None)\n",
    "\n",
    "enc = enc.set_index(0)\n",
    "\n",
    "enc['embeddings'] = enc.values.tolist()\n",
    "\n",
    "enc = enc.reset_index()\n",
    "\n",
    "enc = enc.iloc[:, [0, 2050-1]]\n",
    "\n",
    "enc.columns = ['img', 'embeddings']\n",
    "\n",
    "enc.head(1)"
   ]
  },
  {
   "cell_type": "markdown",
   "metadata": {},
   "source": [
    "Metric can be \"angular\", \"euclidean\", \"manhattan\", \"hamming\", or \"dot\""
   ]
  },
  {
   "cell_type": "code",
   "execution_count": 11,
   "metadata": {},
   "outputs": [
    {
     "name": "stderr",
     "output_type": "stream",
     "text": [
      "5347it [00:00, 15882.44it/s]\n"
     ]
    }
   ],
   "source": [
    "from annoy import AnnoyIndex\n",
    "\n",
    "f = len(enc['embeddings'][0])\n",
    "t = AnnoyIndex(f, metric='angular')\n",
    "ntree = 1000\n",
    "\n",
    "for i, vector in tqdm(enumerate(enc['embeddings'])):\n",
    "    t.add_item(i, vector)\n",
    "_  = t.build(ntree)"
   ]
  },
  {
   "cell_type": "code",
   "execution_count": 12,
   "metadata": {},
   "outputs": [],
   "source": [
    "def get_similar_images_annoy(img_index):\n",
    "    t0 = time()\n",
    "    v, f  = enc.iloc[img_index, [0, 1]]\n",
    "    similar_img_ids = t.get_nns_by_item(img_index, 21)\n",
    "    return v, f, enc.iloc[similar_img_ids].iloc[1:]"
   ]
  },
  {
   "cell_type": "code",
   "execution_count": 13,
   "metadata": {},
   "outputs": [],
   "source": [
    "sample_idx = 18  # 166, # 302\n",
    "\n",
    "v, f, s = get_similar_images_annoy(sample_idx)"
   ]
  },
  {
   "cell_type": "code",
   "execution_count": 14,
   "metadata": {},
   "outputs": [],
   "source": [
    "test = enc[enc.img.isin(top20.index)]"
   ]
  },
  {
   "cell_type": "code",
   "execution_count": 15,
   "metadata": {},
   "outputs": [],
   "source": [
    "test = test.reset_index() "
   ]
  },
  {
   "cell_type": "code",
   "execution_count": 16,
   "metadata": {},
   "outputs": [],
   "source": [
    "test.columns = ['id', 'img' , 'embeddings']"
   ]
  },
  {
   "cell_type": "code",
   "execution_count": 17,
   "metadata": {},
   "outputs": [],
   "source": [
    "def get_top20_imgs(x):\n",
    "    get_similar_images_annoy(x['id'])\n",
    "    _, _, s = get_similar_images_annoy(x['id'])\n",
    "    return s['img'].tolist()"
   ]
  },
  {
   "cell_type": "code",
   "execution_count": 18,
   "metadata": {},
   "outputs": [],
   "source": [
    "test['top20imgs'] = test[test.img.isin(top20.index)].apply(lambda x: get_top20_imgs(x), axis=1)"
   ]
  },
  {
   "cell_type": "code",
   "execution_count": 19,
   "metadata": {},
   "outputs": [
    {
     "data": {
      "text/html": [
       "<div>\n",
       "<style scoped>\n",
       "    .dataframe tbody tr th:only-of-type {\n",
       "        vertical-align: middle;\n",
       "    }\n",
       "\n",
       "    .dataframe tbody tr th {\n",
       "        vertical-align: top;\n",
       "    }\n",
       "\n",
       "    .dataframe thead th {\n",
       "        text-align: right;\n",
       "    }\n",
       "</style>\n",
       "<table border=\"1\" class=\"dataframe\">\n",
       "  <thead>\n",
       "    <tr style=\"text-align: right;\">\n",
       "      <th></th>\n",
       "      <th>id</th>\n",
       "      <th>img</th>\n",
       "      <th>embeddings</th>\n",
       "      <th>top20imgs</th>\n",
       "    </tr>\n",
       "  </thead>\n",
       "  <tbody>\n",
       "    <tr>\n",
       "      <th>0</th>\n",
       "      <td>0</td>\n",
       "      <td>PM-WWA-20180811-093.jpg</td>\n",
       "      <td>[0.10390169, -1.9826837e-05, -0.031419944, -0....</td>\n",
       "      <td>[PM-WWA-20160408-598.jpg, PM-WWA-20100723-339....</td>\n",
       "    </tr>\n",
       "    <tr>\n",
       "      <th>1</th>\n",
       "      <td>18</td>\n",
       "      <td>PM-WWA-20170710-031.jpg</td>\n",
       "      <td>[-0.007411923000000001, 2.2409202e-05, 0.01138...</td>\n",
       "      <td>[PM-WWA-20160319-207.jpg, PM-WWA-20110724-031....</td>\n",
       "    </tr>\n",
       "    <tr>\n",
       "      <th>2</th>\n",
       "      <td>19</td>\n",
       "      <td>PM-WWA-20170622-226.jpg</td>\n",
       "      <td>[-0.009813612, -6.898617400000001e-06, 0.06699...</td>\n",
       "      <td>[PM-WWA-20170625-283.jpg, PM-WWA-20060819-009....</td>\n",
       "    </tr>\n",
       "    <tr>\n",
       "      <th>3</th>\n",
       "      <td>20</td>\n",
       "      <td>PM-WWA-20180813-271.jpg</td>\n",
       "      <td>[-0.00257763, 6.6202214e-05, -0.012052906, -0....</td>\n",
       "      <td>[PM-WWA-20060818-192.jpg, PM-WWA-20080516-102....</td>\n",
       "    </tr>\n",
       "    <tr>\n",
       "      <th>4</th>\n",
       "      <td>21</td>\n",
       "      <td>PM-WWA-20180506-348.jpg</td>\n",
       "      <td>[0.15255915, -2.6346093e-05, 0.06690723, -0.01...</td>\n",
       "      <td>[PM-WWA-20060618-010.jpg, PM-WWA-20110720-104....</td>\n",
       "    </tr>\n",
       "  </tbody>\n",
       "</table>\n",
       "</div>"
      ],
      "text/plain": [
       "   id                      img  \\\n",
       "0   0  PM-WWA-20180811-093.jpg   \n",
       "1  18  PM-WWA-20170710-031.jpg   \n",
       "2  19  PM-WWA-20170622-226.jpg   \n",
       "3  20  PM-WWA-20180813-271.jpg   \n",
       "4  21  PM-WWA-20180506-348.jpg   \n",
       "\n",
       "                                          embeddings  \\\n",
       "0  [0.10390169, -1.9826837e-05, -0.031419944, -0....   \n",
       "1  [-0.007411923000000001, 2.2409202e-05, 0.01138...   \n",
       "2  [-0.009813612, -6.898617400000001e-06, 0.06699...   \n",
       "3  [-0.00257763, 6.6202214e-05, -0.012052906, -0....   \n",
       "4  [0.15255915, -2.6346093e-05, 0.06690723, -0.01...   \n",
       "\n",
       "                                           top20imgs  \n",
       "0  [PM-WWA-20160408-598.jpg, PM-WWA-20100723-339....  \n",
       "1  [PM-WWA-20160319-207.jpg, PM-WWA-20110724-031....  \n",
       "2  [PM-WWA-20170625-283.jpg, PM-WWA-20060819-009....  \n",
       "3  [PM-WWA-20060818-192.jpg, PM-WWA-20080516-102....  \n",
       "4  [PM-WWA-20060618-010.jpg, PM-WWA-20110720-104....  "
      ]
     },
     "execution_count": 19,
     "metadata": {},
     "output_type": "execute_result"
    }
   ],
   "source": [
    "test.head()"
   ]
  },
  {
   "cell_type": "code",
   "execution_count": 20,
   "metadata": {},
   "outputs": [],
   "source": [
    "pd.DataFrame(test.img).join(test['top20imgs'].apply(pd.Series)).to_csv('annoy_angular.csv', header=False, index=False)"
   ]
  },
  {
   "cell_type": "code",
   "execution_count": null,
   "metadata": {},
   "outputs": [],
   "source": []
  }
 ],
 "metadata": {
  "kernelspec": {
   "display_name": "Python [conda env:env4]",
   "language": "python",
   "name": "conda-env-env4-py"
  },
  "language_info": {
   "codemirror_mode": {
    "name": "ipython",
    "version": 3
   },
   "file_extension": ".py",
   "mimetype": "text/x-python",
   "name": "python",
   "nbconvert_exporter": "python",
   "pygments_lexer": "ipython3",
   "version": "3.5.6"
  }
 },
 "nbformat": 4,
 "nbformat_minor": 4
}
