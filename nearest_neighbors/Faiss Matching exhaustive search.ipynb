{
 "cells": [
  {
   "cell_type": "code",
   "execution_count": 103,
   "metadata": {},
   "outputs": [],
   "source": [
    "import pickle\n",
    "import faiss"
   ]
  },
  {
   "cell_type": "markdown",
   "metadata": {},
   "source": [
    "https://towardsdatascience.com/comprehensive-guide-to-approximate-nearest-neighbors-algorithms-8b94f057d6b6"
   ]
  },
  {
   "cell_type": "code",
   "execution_count": 104,
   "metadata": {},
   "outputs": [],
   "source": [
    "import pandas as pd\n",
    "import numpy as np\n",
    "from time import time\n",
    "from tqdm import tqdm\n",
    "tqdm.pandas()\n",
    "\n",
    "model_name = 'seresnext101'\n",
    "fold = 2\n",
    "checkpoint = '17600'\n",
    "algo = 'dist_global_org'\n",
    "\n",
    "nums = [model_name,fold,\n",
    "        checkpoint,\n",
    "        model_name,\n",
    "        fold,algo]"
   ]
  },
  {
   "cell_type": "code",
   "execution_count": 105,
   "metadata": {},
   "outputs": [],
   "source": [
    "top20 = pd.read_csv('../WC_result/{0}_{1}/out_{2}/{3}_sub_fold{4}_{5}.csv'.format(*nums), header=None)\n",
    "top20 = top20.set_index(0)"
   ]
  },
  {
   "cell_type": "code",
   "execution_count": 106,
   "metadata": {},
   "outputs": [
    {
     "data": {
      "text/html": [
       "<div>\n",
       "<style scoped>\n",
       "    .dataframe tbody tr th:only-of-type {\n",
       "        vertical-align: middle;\n",
       "    }\n",
       "\n",
       "    .dataframe tbody tr th {\n",
       "        vertical-align: top;\n",
       "    }\n",
       "\n",
       "    .dataframe thead th {\n",
       "        text-align: right;\n",
       "    }\n",
       "</style>\n",
       "<table border=\"1\" class=\"dataframe\">\n",
       "  <thead>\n",
       "    <tr style=\"text-align: right;\">\n",
       "      <th></th>\n",
       "      <th>img</th>\n",
       "      <th>embeddings</th>\n",
       "    </tr>\n",
       "  </thead>\n",
       "  <tbody>\n",
       "    <tr>\n",
       "      <th>0</th>\n",
       "      <td>PM-WWA-20180811-093.jpg</td>\n",
       "      <td>[0.10390169, -1.9826837e-05, -0.031419944, -0....</td>\n",
       "    </tr>\n",
       "  </tbody>\n",
       "</table>\n",
       "</div>"
      ],
      "text/plain": [
       "                       img                                         embeddings\n",
       "0  PM-WWA-20180811-093.jpg  [0.10390169, -1.9826837e-05, -0.031419944, -0...."
      ]
     },
     "execution_count": 106,
     "metadata": {},
     "output_type": "execute_result"
    }
   ],
   "source": [
    "enc = pd.read_csv('../WC_result/{0}_{1}/out_{2}/encoding_org_img.csv'.format(*nums), header=None)\n",
    "\n",
    "enc = enc.set_index(0)\n",
    "\n",
    "enc['embeddings'] = enc.values.tolist()\n",
    "\n",
    "enc = enc.reset_index()\n",
    "\n",
    "enc = enc.iloc[:, [0, 2050-1]]\n",
    "\n",
    "enc.columns = ['img', 'embeddings']\n",
    "\n",
    "enc.head(1)"
   ]
  },
  {
   "cell_type": "markdown",
   "metadata": {},
   "source": [
    "## Exhaustive Search Usage\n"
   ]
  },
  {
   "cell_type": "code",
   "execution_count": 123,
   "metadata": {},
   "outputs": [],
   "source": [
    "USE_GPU = True\n",
    "\n",
    "class ExactIndex():\n",
    "    def __init__(self, vectors, labels):\n",
    "        self.dimension = vectors.shape[1]\n",
    "        self.vectors = np.ascontiguousarray(vectors.astype('float32'))\n",
    "        self.labels = labels    \n",
    "   \n",
    "    def build(self):\n",
    "        self.index = faiss.IndexFlatL2(self.dimension,)\n",
    "        if USE_GPU:\n",
    "            res = faiss.StandardGpuResources()\n",
    "            self.index = faiss.index_cpu_to_gpu(res, 0, self.index)\n",
    "        self.index.add(self.vectors)\n",
    "        \n",
    "    def query(self, vectors, k=10):\n",
    "        distances, indices = self.index.search(vectors, k) \n",
    "        # I expect only query on one vector thus the slice\n",
    "        return [self.labels[i] for i in indices[0]]"
   ]
  },
  {
   "cell_type": "code",
   "execution_count": 124,
   "metadata": {},
   "outputs": [],
   "source": [
    "index = ExactIndex(enc[\"embeddings\"].apply(pd.Series).values, enc[\"img\"].values)\n",
    "index.build()"
   ]
  },
  {
   "cell_type": "code",
   "execution_count": 125,
   "metadata": {},
   "outputs": [
    {
     "data": {
      "text/plain": [
       "array([[ 1.0390169e-01, -1.9826837e-05, -3.1419944e-02, ...,\n",
       "        -4.3996390e-02, -1.5706321e-02,  5.4578841e-02],\n",
       "       [-1.0056405e-02,  1.8141091e-04,  6.5355293e-02, ...,\n",
       "        -3.1188192e-02,  1.1094182e-02, -1.6914042e-02],\n",
       "       [-1.0010423e-02,  4.0318569e-06,  8.4382081e-03, ...,\n",
       "         7.5220470e-03, -1.7691132e-02, -2.1372322e-02],\n",
       "       ...,\n",
       "       [-8.0038095e-03, -7.6144803e-05, -1.8051082e-02, ...,\n",
       "        -3.2090891e-02, -3.6907820e-03,  3.1203418e-03],\n",
       "       [ 1.1608690e-01,  3.2977765e-05, -3.6970368e-03, ...,\n",
       "        -1.5181725e-02, -1.3473527e-02, -1.9494843e-02],\n",
       "       [-1.4533627e-02, -3.1686645e-06,  1.5872167e-02, ...,\n",
       "        -2.8415434e-02, -1.1559112e-02,  3.5376597e-02]], dtype=float32)"
      ]
     },
     "execution_count": 125,
     "metadata": {},
     "output_type": "execute_result"
    }
   ],
   "source": [
    "dat"
   ]
  },
  {
   "cell_type": "code",
   "execution_count": 126,
   "metadata": {},
   "outputs": [],
   "source": [
    "dat = np.ascontiguousarray(enc[\"embeddings\"].apply(pd.Series).values).astype('float32')"
   ]
  },
  {
   "cell_type": "code",
   "execution_count": 127,
   "metadata": {},
   "outputs": [
    {
     "data": {
      "text/html": [
       "<div>\n",
       "<style scoped>\n",
       "    .dataframe tbody tr th:only-of-type {\n",
       "        vertical-align: middle;\n",
       "    }\n",
       "\n",
       "    .dataframe tbody tr th {\n",
       "        vertical-align: top;\n",
       "    }\n",
       "\n",
       "    .dataframe thead th {\n",
       "        text-align: right;\n",
       "    }\n",
       "</style>\n",
       "<table border=\"1\" class=\"dataframe\">\n",
       "  <thead>\n",
       "    <tr style=\"text-align: right;\">\n",
       "      <th></th>\n",
       "      <th>img</th>\n",
       "      <th>embeddings</th>\n",
       "    </tr>\n",
       "  </thead>\n",
       "  <tbody>\n",
       "    <tr>\n",
       "      <th>0</th>\n",
       "      <td>PM-WWA-20180811-093.jpg</td>\n",
       "      <td>[0.10390169, -1.9826837e-05, -0.031419944, -0....</td>\n",
       "    </tr>\n",
       "  </tbody>\n",
       "</table>\n",
       "</div>"
      ],
      "text/plain": [
       "                       img                                         embeddings\n",
       "0  PM-WWA-20180811-093.jpg  [0.10390169, -1.9826837e-05, -0.031419944, -0...."
      ]
     },
     "execution_count": 127,
     "metadata": {},
     "output_type": "execute_result"
    }
   ],
   "source": [
    "enc.head(1)"
   ]
  },
  {
   "cell_type": "code",
   "execution_count": 133,
   "metadata": {},
   "outputs": [
    {
     "data": {
      "text/plain": [
       "<faiss.swigfaiss_avx2.DistanceComputer; proxy of <Swig Object of type 'faiss::DistanceComputer *' at 0x7fd7d1e231b0> >"
      ]
     },
     "execution_count": 133,
     "metadata": {},
     "output_type": "execute_result"
    }
   ],
   "source": [
    "index.index.get_distance_computer()"
   ]
  },
  {
   "cell_type": "code",
   "execution_count": 128,
   "metadata": {},
   "outputs": [
    {
     "data": {
      "text/plain": [
       "['PM-WWA-20160408-598.jpg',\n",
       " 'PM-WWA-20100723-339.jpg',\n",
       " 'PM-WWA-20100723-355.jpg',\n",
       " 'PM-WWA-20180627-038.jpg',\n",
       " 'PM-WWA-20160722-035.jpg',\n",
       " 'PM-WWA-20140820-095.jpg',\n",
       " 'PM-WWA-20090702-046.jpg',\n",
       " 'PM-WWA-20060608-026.jpg',\n",
       " 'PM-WWA-20050612-045.jpg',\n",
       " 'PM-WWA-20181019-008.jpg',\n",
       " 'PM-WWA-20160801-046.jpg',\n",
       " 'PM-WWA-20110728-029.jpg',\n",
       " 'PM-WWA-20110724-031.jpg',\n",
       " 'PM-WWA-20140627-075.jpg',\n",
       " 'PM-WWA-20050705-151.jpg',\n",
       " 'PM-WWA-20100421-181.jpg',\n",
       " 'PM-WWA-20120617-014.jpg',\n",
       " 'PM-WWA-20160617-346.jpg',\n",
       " 'PM-WWA-20180914-075.jpg',\n",
       " 'PM-WWA-20100930-017.jpg']"
      ]
     },
     "execution_count": 128,
     "metadata": {},
     "output_type": "execute_result"
    }
   ],
   "source": [
    "index.query(np.expand_dims(dat[0], 1).reshape(1, -1), 21)[1:]"
   ]
  },
  {
   "cell_type": "code",
   "execution_count": 115,
   "metadata": {},
   "outputs": [],
   "source": [
    "test = enc[enc.img.isin(top20.index)]\n",
    "test = test.reset_index() \n",
    "test.columns = ['id', 'img' , 'embeddings']"
   ]
  },
  {
   "cell_type": "code",
   "execution_count": 117,
   "metadata": {},
   "outputs": [
    {
     "data": {
      "text/plain": [
       "(808, 3)"
      ]
     },
     "execution_count": 117,
     "metadata": {},
     "output_type": "execute_result"
    }
   ],
   "source": [
    "test.shape"
   ]
  },
  {
   "cell_type": "code",
   "execution_count": 118,
   "metadata": {},
   "outputs": [
    {
     "data": {
      "text/plain": [
       "(808, 3)"
      ]
     },
     "execution_count": 118,
     "metadata": {},
     "output_type": "execute_result"
    }
   ],
   "source": [
    "test[test.img.isin(top20.index)].shape"
   ]
  },
  {
   "cell_type": "code",
   "execution_count": 120,
   "metadata": {},
   "outputs": [],
   "source": [
    "test['top20imgs'] = test['id'].map(lambda x: index.query(np.expand_dims(dat[x], 1).reshape(1, -1), 21)[1:])"
   ]
  },
  {
   "cell_type": "code",
   "execution_count": 121,
   "metadata": {},
   "outputs": [
    {
     "data": {
      "text/html": [
       "<div>\n",
       "<style scoped>\n",
       "    .dataframe tbody tr th:only-of-type {\n",
       "        vertical-align: middle;\n",
       "    }\n",
       "\n",
       "    .dataframe tbody tr th {\n",
       "        vertical-align: top;\n",
       "    }\n",
       "\n",
       "    .dataframe thead th {\n",
       "        text-align: right;\n",
       "    }\n",
       "</style>\n",
       "<table border=\"1\" class=\"dataframe\">\n",
       "  <thead>\n",
       "    <tr style=\"text-align: right;\">\n",
       "      <th></th>\n",
       "      <th>id</th>\n",
       "      <th>img</th>\n",
       "      <th>embeddings</th>\n",
       "      <th>top20imgs</th>\n",
       "    </tr>\n",
       "  </thead>\n",
       "  <tbody>\n",
       "    <tr>\n",
       "      <th>0</th>\n",
       "      <td>0</td>\n",
       "      <td>PM-WWA-20180811-093.jpg</td>\n",
       "      <td>[0.10390169, -1.9826837e-05, -0.031419944, -0....</td>\n",
       "      <td>[PM-WWA-20160408-598.jpg, PM-WWA-20100723-339....</td>\n",
       "    </tr>\n",
       "    <tr>\n",
       "      <th>1</th>\n",
       "      <td>18</td>\n",
       "      <td>PM-WWA-20170710-031.jpg</td>\n",
       "      <td>[-0.007411923000000001, 2.2409202e-05, 0.01138...</td>\n",
       "      <td>[PM-WWA-20160319-207.jpg, PM-WWA-20110724-031....</td>\n",
       "    </tr>\n",
       "    <tr>\n",
       "      <th>2</th>\n",
       "      <td>19</td>\n",
       "      <td>PM-WWA-20170622-226.jpg</td>\n",
       "      <td>[-0.009813612, -6.898617400000001e-06, 0.06699...</td>\n",
       "      <td>[PM-WWA-20170625-283.jpg, PM-WWA-20060819-009....</td>\n",
       "    </tr>\n",
       "    <tr>\n",
       "      <th>3</th>\n",
       "      <td>20</td>\n",
       "      <td>PM-WWA-20180813-271.jpg</td>\n",
       "      <td>[-0.00257763, 6.6202214e-05, -0.012052906, -0....</td>\n",
       "      <td>[PM-WWA-20060818-192.jpg, PM-WWA-20080516-102....</td>\n",
       "    </tr>\n",
       "    <tr>\n",
       "      <th>4</th>\n",
       "      <td>21</td>\n",
       "      <td>PM-WWA-20180506-348.jpg</td>\n",
       "      <td>[0.15255915, -2.6346093e-05, 0.06690723, -0.01...</td>\n",
       "      <td>[PM-WWA-20060618-010.jpg, PM-WWA-20110720-104....</td>\n",
       "    </tr>\n",
       "  </tbody>\n",
       "</table>\n",
       "</div>"
      ],
      "text/plain": [
       "   id                      img  \\\n",
       "0   0  PM-WWA-20180811-093.jpg   \n",
       "1  18  PM-WWA-20170710-031.jpg   \n",
       "2  19  PM-WWA-20170622-226.jpg   \n",
       "3  20  PM-WWA-20180813-271.jpg   \n",
       "4  21  PM-WWA-20180506-348.jpg   \n",
       "\n",
       "                                          embeddings  \\\n",
       "0  [0.10390169, -1.9826837e-05, -0.031419944, -0....   \n",
       "1  [-0.007411923000000001, 2.2409202e-05, 0.01138...   \n",
       "2  [-0.009813612, -6.898617400000001e-06, 0.06699...   \n",
       "3  [-0.00257763, 6.6202214e-05, -0.012052906, -0....   \n",
       "4  [0.15255915, -2.6346093e-05, 0.06690723, -0.01...   \n",
       "\n",
       "                                           top20imgs  \n",
       "0  [PM-WWA-20160408-598.jpg, PM-WWA-20100723-339....  \n",
       "1  [PM-WWA-20160319-207.jpg, PM-WWA-20110724-031....  \n",
       "2  [PM-WWA-20170625-283.jpg, PM-WWA-20060819-009....  \n",
       "3  [PM-WWA-20060818-192.jpg, PM-WWA-20080516-102....  \n",
       "4  [PM-WWA-20060618-010.jpg, PM-WWA-20110720-104....  "
      ]
     },
     "execution_count": 121,
     "metadata": {},
     "output_type": "execute_result"
    }
   ],
   "source": [
    "test.head()"
   ]
  },
  {
   "cell_type": "code",
   "execution_count": 122,
   "metadata": {},
   "outputs": [],
   "source": [
    "pd.DataFrame(test.img).join(test['top20imgs'].apply(pd.Series)).to_csv('faiss.csv', header=False, index=False)"
   ]
  },
  {
   "cell_type": "code",
   "execution_count": null,
   "metadata": {},
   "outputs": [],
   "source": []
  }
 ],
 "metadata": {
  "kernelspec": {
   "display_name": "Python [conda env:env4]",
   "language": "python",
   "name": "conda-env-env4-py"
  }
 },
 "nbformat": 4,
 "nbformat_minor": 2
}
