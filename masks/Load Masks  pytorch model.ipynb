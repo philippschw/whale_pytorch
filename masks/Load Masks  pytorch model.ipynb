{
 "cells": [
  {
   "cell_type": "code",
   "execution_count": 1,
   "metadata": {},
   "outputs": [],
   "source": [
    "import pandas as pd\n",
    "import numpy as np"
   ]
  },
  {
   "cell_type": "code",
   "execution_count": 2,
   "metadata": {},
   "outputs": [],
   "source": [
    "def load_mask():\n",
    "    print('loading mask...')\n",
    "    rle_masks = pd.read_csv('../WC_input/model_50A_slim_ensemble.csv')\n",
    "    rle_masks = rle_masks[rle_masks['rle_mask'].isnull() == False]\n",
    "    rle_masks.index = rle_masks['id']\n",
    "    del rle_masks['id']\n",
    "    rle_masks = rle_masks.to_dict('index')\n",
    "    return rle_masks"
   ]
  },
  {
   "cell_type": "code",
   "execution_count": 3,
   "metadata": {},
   "outputs": [
    {
     "name": "stdout",
     "output_type": "stream",
     "text": [
      "loading mask...\n"
     ]
    }
   ],
   "source": [
    "rle_masks = load_mask()"
   ]
  },
  {
   "cell_type": "code",
   "execution_count": 5,
   "metadata": {},
   "outputs": [
    {
     "data": {
      "text/plain": [
       "{'rle_mask': '5061 6 5250 14 5441 18 5632 21 5823 25 6015 26 6206 28 6398 30 6589 32 6781 33 6973 34 7164 37 7356 38 7548 39 7739 41 7931 43 8123 44 8315 45 8507 46 8699 47 8890 50 9082 51 9274 52 9466 53 9657 55 9849 56 10041 58 10233 59 10425 60 10616 62 10808 63 11000 64 11192 65 11383 67 11575 68 11767 69 11959 70 12151 71 12343 72 12535 73 12727 74 12919 75 13111 76 13303 77 13495 78 13687 79 13879 81 14070 82 14262 83 14453 85 14645 86 14837 87 15028 89 15220 90 15412 91 15604 92 15796 93 15988 93 16180 94 16372 95 16564 96 16755 98 16947 98 17139 100 17332 100 17524 100 17716 101 17908 102 18101 102 18293 102 18485 103 18677 104 18870 103 19062 103 19254 102 19447 101 19639 100 19831 99 20024 97 20216 96 20408 96 20600 96 20792 96 20984 95 21176 94 21368 94 21560 93 21752 93 21944 93 22136 94 22328 94 22521 92 22713 92 22906 91 23098 91 23291 91 23484 89 23677 88 23870 87 24062 87 24255 86 24447 86 24639 87 24832 86 25024 87 25216 87 25408 86 25600 86 25792 86 25985 85 26177 85 26369 85 26561 85 26753 85 26945 85 27137 85 27329 85 27521 85 27713 85 27905 86 28097 86 28289 86 28480 88 28672 88 28864 90 29056 90 29248 91 29440 91 29632 92 29824 92 30016 92 30207 94 30399 94 30591 95 30783 95 30974 95 31166 95 31358 95 31550 95 31741 97 31933 97 32125 97 32317 97 32509 97 32702 96 32894 97 33086 97 33279 96 33471 97 33664 96 33856 96 34048 96 34241 95 34433 96 34626 95 34819 94 35011 94 35204 93 35397 92 35589 93 35782 92 35975 90 36168 89 36361 88 36553 89 36746 89 36939 87 37131 86 37322 86 37512 87 37703 88 37894 89 38085 89 38276 90 38467 91 38658 92 38849 93 39040 94 39231 95 39422 96 39614 96 39805 98 39996 99 40187 101 40379 100 40570 101 40761 102 40953 102 41144 103 41336 103 41527 103 41719 102 41910 103 42102 103 42294 102 42485 102 42677 101 42869 101 43061 101 43252 102 43444 101 43636 101 43827 102 44019 103 44211 104 44403 103 44594 104 44786 103 44978 102 45170 103 45361 104 45553 103 45745 102 45936 103 46128 103 46320 103 46512 103 46704 103 46896 101 47087 102 47279 102 47471 102 47663 102 47855 102 48046 103 48238 103 48430 103 48622 103 48814 103 49006 103 49198 103 49390 103 49582 103 49774 103 49967 103 50159 103 50351 103 50543 103 50735 104 50927 104 51119 104 51311 105 51503 105 51695 105 51886 106 52078 107 52269 108 52461 108 52653 109 52845 109 53037 109 53229 110 53421 110 53613 111 53805 111 53998 110 54190 111 54382 112 54574 112 54766 111 54958 111 55149 111 55341 111 55533 110 55725 109 55916 109 56108 108 56300 108 56492 107 56684 106 56876 105 57069 103 57261 102 57453 101 57645 101 57837 100 58030 98 58222 97 58414 96 58606 95 58798 94 58991 92 59183 91 59375 90 59567 89 59759 88 59950 88 60142 87 60334 86 60526 85 60718 84 60910 83 61102 82 61293 82 61485 81 61677 80 61870 78 62062 77 62254 76 62447 74 62639 73 62831 72 63023 71 63215 69 63407 68 63599 67 63791 66 63983 65 64175 64 64367 62 64559 61 64751 60 64943 59 65135 58 65327 57 65519 56 65712 53 65904 52 66096 51 66288 50 66480 49 66673 47 66865 45 67057 44 67249 43 67441 42 67633 41 67826 39 68019 36 68212 34 68405 32 68598 30 68791 27 68983 26 69176 24 69369 22 69561 20 69754 18 69946 16 70139 13 70332 9 70526 4'}"
      ]
     },
     "execution_count": 5,
     "metadata": {},
     "output_type": "execute_result"
    }
   ],
   "source": [
    "rle_masks['PM-WWA-20120430-011']"
   ]
  },
  {
   "cell_type": "code",
   "execution_count": 6,
   "metadata": {},
   "outputs": [],
   "source": [
    "def do_length_decode(rle, H=192, W=384, fill_value=255):\n",
    "    mask = np.zeros((H,W), np.uint8)\n",
    "    if type(rle).__name__ == 'float': return mask\n",
    "    mask = mask.reshape(-1)\n",
    "    rle = np.array([int(s) for s in rle.split(' ')]).reshape(-1, 2)\n",
    "    for r in rle:\n",
    "        start = r[0]-1\n",
    "        end = start + r[1]\n",
    "        mask[start : end] = fill_value\n",
    "    mask = mask.reshape(W, H).T   # H, W need to swap as transposing.\n",
    "    return mask"
   ]
  },
  {
   "cell_type": "code",
   "execution_count": 10,
   "metadata": {},
   "outputs": [],
   "source": [
    "name = 'PM-WWA-20050917-016'\n",
    "mask = do_length_decode(rle_masks[name.split('.')[0]]['rle_mask'])"
   ]
  },
  {
   "cell_type": "code",
   "execution_count": 11,
   "metadata": {},
   "outputs": [
    {
     "data": {
      "text/plain": [
       "(192, 384)"
      ]
     },
     "execution_count": 11,
     "metadata": {},
     "output_type": "execute_result"
    }
   ],
   "source": [
    "mask.shape"
   ]
  },
  {
   "cell_type": "code",
   "execution_count": 12,
   "metadata": {},
   "outputs": [
    {
     "data": {
      "image/png": "[encoded data removed]",
      "text/plain": [
       "<Figure size 432x288 with 1 Axes>"
      ]
     },
     "metadata": {
      "needs_background": "light"
     },
     "output_type": "display_data"
    }
   ],
   "source": [
    "from matplotlib import pyplot as plt\n",
    "\n",
    "plt.imshow(mask)\n",
    "plt.show()"
   ]
  },
  {
   "cell_type": "code",
   "execution_count": null,
   "metadata": {},
   "outputs": [],
   "source": []
  }
 ],
 "metadata": {
  "kernelspec": {
   "display_name": "Python [conda env:kerasgpu]",
   "language": "python",
   "name": "conda-env-kerasgpu-py"
  },
  "language_info": {
   "codemirror_mode": {
    "name": "ipython",
    "version": 3
   },
   "file_extension": ".py",
   "mimetype": "text/x-python",
   "name": "python",
   "nbconvert_exporter": "python",
   "pygments_lexer": "ipython3",
   "version": "3.6.8"
  }
 },
 "nbformat": 4,
 "nbformat_minor": 4
}
