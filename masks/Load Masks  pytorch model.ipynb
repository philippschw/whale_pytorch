{
 "cells": [
  {
   "cell_type": "code",
   "execution_count": 11,
   "metadata": {},
   "outputs": [],
   "source": [
    "import pandas as pd\n",
    "import numpy as np"
   ]
  },
  {
   "cell_type": "code",
   "execution_count": 12,
   "metadata": {},
   "outputs": [],
   "source": [
    "def load_mask():\n",
    "    print('loading mask...')\n",
    "    rle_masks = pd.read_csv('../input/model_50A_slim_ensemble.csv')\n",
    "    rle_masks = rle_masks[rle_masks['rle_mask'].isnull() == False]\n",
    "    rle_masks.index = rle_masks['id']\n",
    "    del rle_masks['id']\n",
    "    rle_masks = rle_masks.to_dict('index')\n",
    "    return rle_masks"
   ]
  },
  {
   "cell_type": "code",
   "execution_count": 13,
   "metadata": {},
   "outputs": [
    {
     "name": "stdout",
     "output_type": "stream",
     "text": [
      "loading mask...\n"
     ]
    }
   ],
   "source": [
    "rle_masks = load_mask()"
   ]
  },
  {
   "cell_type": "code",
   "execution_count": 14,
   "metadata": {},
   "outputs": [
    {
     "data": {
      "text/plain": [
       "{'rle_mask': '17112 4 17301 23 17492 26 17684 31 17875 36 18067 38 18259 41 18452 42 18645 42 18838 43 19031 44 19225 44 19418 44 19612 43 19805 44 19998 45 20192 44 20384 46 20578 45 20771 45 20964 46 21157 46 21349 47 21542 47 21734 49 21927 49 22120 49 22312 50 22504 51 22697 51 22890 51 23082 52 23275 52 23467 53 23659 54 23851 55 24043 56 24236 56 24429 56 24621 57 24814 57 25006 58 25198 59 25389 61 25581 62 25772 64 25964 65 26157 65 26349 66 26541 67 26733 68 26925 69 27117 70 27309 72 27501 73 27694 73 27886 74 28078 75 28271 76 28464 76 28656 77 28848 79 29040 80 29233 81 29426 81 29618 83 29810 86 30002 87 30141 3 30194 89 30321 16 30386 90 30505 24 30579 90 30691 30 30772 91 30875 38 30964 92 31064 41 31156 93 31251 46 31348 141 31540 141 31732 141 31925 140 32117 140 32309 140 32502 139 32694 139 32887 138 33079 138 33272 137 33466 135 33658 135 33851 134 34043 134 34236 133 34429 132 34621 132 34814 131 35006 131 35199 130 35392 129 35584 129 35775 130 35966 131 36155 134 36346 135 36537 136 36728 137 36918 139 37109 140 37300 141 37491 142 37682 143 37871 146 38060 149 38252 149 38443 150 38635 150 38826 151 39018 151 39209 152 39400 153 39591 154 39783 154 39974 155 40165 156 40356 157 40548 157 40740 157 40931 158 41122 159 41313 160 41504 161 41695 162 41886 113 42000 49 42077 112 42196 45 42269 112 42389 44 42461 111 42582 43 42653 110 42776 41 42844 108 42969 40 43036 107 43164 37 43227 106 43359 34 43418 106 43553 32 43609 106 43746 31 43800 106 43940 29 43992 104 44133 28 44183 104 44327 26 44375 103 44521 24 44566 103 44716 21 44758 102 44911 18 44949 101 45106 15 45140 101 45299 14 45332 100 45493 12 45524 98 45687 10 45717 95 45881 8 45909 94 46078 3 46101 93 46272 1 46292 92 46484 91 46677 88 46869 87 47061 86 47254 83 47446 81 47638 79 47831 76 48024 73 48217 70 48410 67 48602 65 48795 61 48988 58 49182 53 49376 48 49571 43 49766 3 49772 31 49973 11 49988 3'}"
      ]
     },
     "execution_count": 14,
     "metadata": {},
     "output_type": "execute_result"
    }
   ],
   "source": [
    "rle_masks['039b1c58']"
   ]
  },
  {
   "cell_type": "code",
   "execution_count": 15,
   "metadata": {},
   "outputs": [],
   "source": [
    "def do_length_decode(rle, H=192, W=384, fill_value=255):\n",
    "    mask = np.zeros((H,W), np.uint8)\n",
    "    if type(rle).__name__ == 'float': return mask\n",
    "    mask = mask.reshape(-1)\n",
    "    rle = np.array([int(s) for s in rle.split(' ')]).reshape(-1, 2)\n",
    "    for r in rle:\n",
    "        start = r[0]-1\n",
    "        end = start + r[1]\n",
    "        mask[start : end] = fill_value\n",
    "    mask = mask.reshape(W, H).T   # H, W need to swap as transposing.\n",
    "    return mask"
   ]
  },
  {
   "cell_type": "code",
   "execution_count": 16,
   "metadata": {},
   "outputs": [],
   "source": [
    "name = '039b1c58'\n",
    "mask = do_length_decode(rle_masks[name.split('.')[0]]['rle_mask'])"
   ]
  },
  {
   "cell_type": "code",
   "execution_count": 23,
   "metadata": {},
   "outputs": [
    {
     "data": {
      "text/plain": [
       "(192, 384)"
      ]
     },
     "execution_count": 23,
     "metadata": {},
     "output_type": "execute_result"
    }
   ],
   "source": [
    "mask.shape"
   ]
  },
  {
   "cell_type": "code",
   "execution_count": 25,
   "metadata": {},
   "outputs": [
    {
     "data": {
      "image/png": "[encoded data removed]",
      "text/plain": [
       "<Figure size 432x288 with 1 Axes>"
      ]
     },
     "metadata": {
      "needs_background": "light"
     },
     "output_type": "display_data"
    }
   ],
   "source": [
    "from matplotlib import pyplot as plt\n",
    "\n",
    "plt.imshow(mask)\n",
    "plt.show()"
   ]
  },
  {
   "cell_type": "code",
   "execution_count": null,
   "metadata": {},
   "outputs": [],
   "source": []
  }
 ],
 "metadata": {
  "kernelspec": {
   "display_name": "Python [conda env:kerasgpu]",
   "language": "python",
   "name": "conda-env-kerasgpu-py"
  },
  "language_info": {
   "codemirror_mode": {
    "name": "ipython",
    "version": 3
   },
   "file_extension": ".py",
   "mimetype": "text/x-python",
   "name": "python",
   "nbconvert_exporter": "python",
   "pygments_lexer": "ipython3",
   "version": "3.6.8"
  }
 },
 "nbformat": 4,
 "nbformat_minor": 4
}
